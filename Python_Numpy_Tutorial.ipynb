{
 "cells": [
  {
   "cell_type": "markdown",
   "metadata": {},
   "source": [
    "# Python Numpy Tutorial"
   ]
  },
  {
   "cell_type": "markdown",
   "metadata": {},
   "source": [
    "In this notebook, I will be completing the Python Numpy Tutorial found on CS231 (Deep Learning at Stanford)."
   ]
  },
  {
   "cell_type": "markdown",
   "metadata": {},
   "source": [
    "### Datatypes\n",
    "Understanding different *Datatypes* for Python:\n",
    "\n",
    "| Datatype | Keyword | Description | Example |\n",
    "| :--- | :--- | :--- | :--- |\n",
    "| integer | `int` | positive/negative whole numbers | `42` |\n",
    "| floating point number | `float` | real number in decimal form | `3.1416` |\n",
    "| complex number | `complex` | complex number $a+b\\sqrt{-1}$ | `1+2j` |\n",
    "| boolean | `bool` | true or false | `True` |\n",
    "| string | `str` | text | `\"Hello World\"` |"
   ]
  },
  {
   "cell_type": "code",
   "execution_count": 47,
   "metadata": {},
   "outputs": [
    {
     "name": "stdout",
     "output_type": "stream",
     "text": [
      "<class 'float'>\n",
      "<class 'int'>\n"
     ]
    }
   ],
   "source": [
    "x = 3.2  # Change x to different values and see the different types!\n",
    "print(type(x))\n",
    "\n",
    "y = int(x)  # We can also convert to a different datatype.\n",
    "print(type(y))"
   ]
  },
  {
   "cell_type": "markdown",
   "metadata": {},
   "source": [
    "Numbers use the usual operations: `+`, `-`, `*`, `/`, `//`, `**`"
   ]
  },
  {
   "cell_type": "code",
   "execution_count": 56,
   "metadata": {},
   "outputs": [
    {
     "name": "stdout",
     "output_type": "stream",
     "text": [
      "6.2\n",
      "9.600000000000001\n",
      "0.9375\n",
      "0.0\n",
      "33.63473536961897\n"
     ]
    }
   ],
   "source": [
    "print(y + x)\n",
    "print(y * x)\n",
    "print(y / x)\n",
    "print(y // x)\n",
    "print(y ** x)"
   ]
  },
  {
   "cell_type": "markdown",
   "metadata": {},
   "source": [
    "Booleans are logical factors. They just come in two values \"True\" or \"False\". In Python, we use words rather than symbols to make the logical operations `or`, `and`, `not`, `!=`."
   ]
  },
  {
   "cell_type": "code",
   "execution_count": 66,
   "metadata": {},
   "outputs": [
    {
     "name": "stdout",
     "output_type": "stream",
     "text": [
      "True\n",
      "False\n",
      "True\n",
      "False\n"
     ]
    }
   ],
   "source": [
    "t, f = True, False\n",
    "print(t or f)\n",
    "print(t and f)\n",
    "print(not f)\n",
    "print(f != f) #Boolean operators include <, >, <=, >=, == as well."
   ]
  },
  {
   "cell_type": "markdown",
   "metadata": {},
   "source": [
    "Everything in Python is an object. And it has different methods. Strings in python are objects which methods are capitlize, lower case, upper case, among others. We can also use format to enter information as an input."
   ]
  },
  {
   "cell_type": "code",
   "execution_count": 58,
   "metadata": {},
   "outputs": [
    {
     "data": {
      "text/plain": [
       "'hello!'"
      ]
     },
     "execution_count": 58,
     "metadata": {},
     "output_type": "execute_result"
    }
   ],
   "source": [
    "all_caps = \"HELLO!\"\n",
    "all_caps.lower() # Go to strings documentation and try different methods."
   ]
  },
  {
   "cell_type": "code",
   "execution_count": 62,
   "metadata": {},
   "outputs": [],
   "source": [
    "template = \"Hello, my name is {0}. I live in {1}.\""
   ]
  },
  {
   "cell_type": "code",
   "execution_count": 63,
   "metadata": {},
   "outputs": [
    {
     "data": {
      "text/plain": [
       "'Hello, my name is Socorro. I live in Vancouver.'"
      ]
     },
     "execution_count": 63,
     "metadata": {},
     "output_type": "execute_result"
    }
   ],
   "source": [
    "template.format('Socorro', 'Vancouver')"
   ]
  },
  {
   "cell_type": "code",
   "execution_count": 64,
   "metadata": {},
   "outputs": [
    {
     "data": {
      "text/plain": [
       "'Hello, my name is Sigmund. I live in Germany.'"
      ]
     },
     "execution_count": 64,
     "metadata": {},
     "output_type": "execute_result"
    }
   ],
   "source": [
    "template.format('Sigmund', 'Germany')"
   ]
  },
  {
   "cell_type": "markdown",
   "metadata": {},
   "source": [
    "### Containers\n",
    "Containers are also important and should be studied carefully:\n",
    "\n",
    "| Container | Keyword | Description | Example |\n",
    "| :--- | :--- | :--- | :--- |\n",
    "| list | `list` | homogeneous sequence representing a collection of similar objects | `['Ali','Juan','Jean']` |\n",
    "| tuple | `tuple` | heterogeneous sequence representing a single object | `('Thursday',6,9,2018)` |\n",
    "| dictionary | `dict` | mapping of key-value pairs | `{'name':'CS','code':101,'credits':10}` |\n",
    "\n",
    "Lists and tuples are also considered sequence types."
   ]
  },
  {
   "cell_type": "code",
   "execution_count": 73,
   "metadata": {},
   "outputs": [
    {
     "name": "stdout",
     "output_type": "stream",
     "text": [
      "<class 'list'>\n",
      "<class 'tuple'>\n"
     ]
    }
   ],
   "source": [
    "my_list = [1,2,3,4,5]\n",
    "my_tuple = (1,2,3,4,5)\n",
    "\n",
    "print(type(my_list))\n",
    "print(type(my_tuple))"
   ]
  },
  {
   "cell_type": "code",
   "execution_count": 74,
   "metadata": {},
   "outputs": [
    {
     "data": {
      "text/plain": [
       "[1, 2, 3, 4, 5, 6]"
      ]
     },
     "execution_count": 74,
     "metadata": {},
     "output_type": "execute_result"
    }
   ],
   "source": [
    "# Methods for lists\n",
    "my_list.append(6)\n",
    "my_list"
   ]
  },
  {
   "cell_type": "code",
   "execution_count": 75,
   "metadata": {},
   "outputs": [
    {
     "data": {
      "text/plain": [
       "1"
      ]
     },
     "execution_count": 75,
     "metadata": {},
     "output_type": "execute_result"
    }
   ],
   "source": [
    "my_list.count(2) # Frequency of the item between parenthesis."
   ]
  },
  {
   "cell_type": "markdown",
   "metadata": {},
   "source": [
    "In Python, indices go from 0 to the length of the list minus 1"
   ]
  },
  {
   "cell_type": "code",
   "execution_count": 83,
   "metadata": {},
   "outputs": [
    {
     "name": "stdout",
     "output_type": "stream",
     "text": [
      "[3, 4]\n",
      "[3, 4, 5, 6]\n",
      "[1, 2]\n",
      "[1, 2, 3, 4, 5, 6]\n",
      "[1, 2, 3, 4, 5]\n"
     ]
    }
   ],
   "source": [
    "# Slicing\n",
    "print(my_list[2:4])    # Slice from index 2 to 4 (exclusive)\n",
    "print(my_list[2:])     # Slice from index 2 to the end\n",
    "print(my_list[:2])     # Slice from the start to index 2 (exclusive)\n",
    "print(my_list[:])      # Slice of the whole list\n",
    "print(my_list[:-1])    # Slice from the beginning to the last item of the list (exclusive)"
   ]
  },
  {
   "cell_type": "code",
   "execution_count": 89,
   "metadata": {},
   "outputs": [
    {
     "ename": "IndexError",
     "evalue": "list index out of range",
     "output_type": "error",
     "traceback": [
      "\u001b[0;31m---------------------------------------------------------------------------\u001b[0m",
      "\u001b[0;31mIndexError\u001b[0m                                Traceback (most recent call last)",
      "\u001b[0;32m<ipython-input-89-8057081bc35a>\u001b[0m in \u001b[0;36m<module>\u001b[0;34m\u001b[0m\n\u001b[1;32m      1\u001b[0m \u001b[0mlen\u001b[0m\u001b[0;34m(\u001b[0m\u001b[0mmy_list\u001b[0m\u001b[0;34m)\u001b[0m  \u001b[0;31m# It is 6\u001b[0m\u001b[0;34m\u001b[0m\u001b[0;34m\u001b[0m\u001b[0m\n\u001b[0;32m----> 2\u001b[0;31m \u001b[0mmy_list\u001b[0m\u001b[0;34m[\u001b[0m\u001b[0;36m6\u001b[0m\u001b[0;34m]\u001b[0m  \u001b[0;31m# Needs to be 5 at most\u001b[0m\u001b[0;34m\u001b[0m\u001b[0;34m\u001b[0m\u001b[0m\n\u001b[0m",
      "\u001b[0;31mIndexError\u001b[0m: list index out of range"
     ]
    }
   ],
   "source": [
    "len(my_list)  # It is 6\n",
    "my_list[6]  # Needs to be 5 at most"
   ]
  },
  {
   "cell_type": "code",
   "execution_count": 81,
   "metadata": {},
   "outputs": [
    {
     "name": "stdout",
     "output_type": "stream",
     "text": [
      "[1, 4, 9, 16, 25, 36]\n"
     ]
    }
   ],
   "source": [
    "# List comprehension\n",
    "squares = [x ** 2 for x in my_list]\n",
    "print(squares) "
   ]
  },
  {
   "cell_type": "code",
   "execution_count": 91,
   "metadata": {},
   "outputs": [
    {
     "data": {
      "text/plain": [
       "[1, 2, 3, 4, 5, 10]"
      ]
     },
     "execution_count": 91,
     "metadata": {},
     "output_type": "execute_result"
    }
   ],
   "source": [
    "# I can change an item in lists by accessing it through its index\n",
    "my_list[5] = 10\n",
    "my_list"
   ]
  },
  {
   "cell_type": "markdown",
   "metadata": {},
   "source": [
    "Inmutable data types (tuples)"
   ]
  },
  {
   "cell_type": "code",
   "execution_count": 93,
   "metadata": {},
   "outputs": [
    {
     "name": "stdout",
     "output_type": "stream",
     "text": [
      "3\n"
     ]
    },
    {
     "ename": "TypeError",
     "evalue": "'tuple' object does not support item assignment",
     "output_type": "error",
     "traceback": [
      "\u001b[0;31m---------------------------------------------------------------------------\u001b[0m",
      "\u001b[0;31mTypeError\u001b[0m                                 Traceback (most recent call last)",
      "\u001b[0;32m<ipython-input-93-641e62f97d4a>\u001b[0m in \u001b[0;36m<module>\u001b[0;34m\u001b[0m\n\u001b[1;32m      1\u001b[0m \u001b[0;31m# Can't change a tuple through slicing\u001b[0m\u001b[0;34m\u001b[0m\u001b[0;34m\u001b[0m\u001b[0;34m\u001b[0m\u001b[0m\n\u001b[1;32m      2\u001b[0m \u001b[0mprint\u001b[0m\u001b[0;34m(\u001b[0m\u001b[0mmy_tuple\u001b[0m\u001b[0;34m[\u001b[0m\u001b[0;36m2\u001b[0m\u001b[0;34m]\u001b[0m\u001b[0;34m)\u001b[0m\u001b[0;34m\u001b[0m\u001b[0;34m\u001b[0m\u001b[0m\n\u001b[0;32m----> 3\u001b[0;31m \u001b[0mmy_tuple\u001b[0m\u001b[0;34m[\u001b[0m\u001b[0;36m2\u001b[0m\u001b[0;34m]\u001b[0m \u001b[0;34m=\u001b[0m \u001b[0;36m5\u001b[0m\u001b[0;34m\u001b[0m\u001b[0;34m\u001b[0m\u001b[0m\n\u001b[0m",
      "\u001b[0;31mTypeError\u001b[0m: 'tuple' object does not support item assignment"
     ]
    }
   ],
   "source": [
    "# Can't change a tuple through slicing\n",
    "print(my_tuple[2])\n",
    "my_tuple[2] = 5"
   ]
  },
  {
   "cell_type": "markdown",
   "metadata": {},
   "source": [
    "### Loops\n",
    "\n",
    "Iterates all items in a list/array."
   ]
  },
  {
   "cell_type": "code",
   "execution_count": 95,
   "metadata": {},
   "outputs": [
    {
     "name": "stdout",
     "output_type": "stream",
     "text": [
      "Gimme a P!\n",
      "Gimme a y!\n",
      "Gimme a t!\n",
      "Gimme a h!\n",
      "Gimme a o!\n",
      "Gimme a n!\n",
      "What's that spell?!! Python!\n"
     ]
    }
   ],
   "source": [
    "word = \"Python\"\n",
    "for letter in word:\n",
    "    print(\"Gimme a \" + letter + \"!\")\n",
    "\n",
    "print(\"What's that spell?!! \" + word + \"!\")"
   ]
  },
  {
   "cell_type": "markdown",
   "metadata": {},
   "source": [
    "### Dictionaries\n",
    "\n",
    "A dictionary is a mapping between key-values pairs."
   ]
  },
  {
   "cell_type": "code",
   "execution_count": 144,
   "metadata": {},
   "outputs": [],
   "source": [
    "house = {'bedrooms': 3, 'bathrooms': 2, 'city': 'Vancouver', 'price': 1000000, 'date_sold': (1,3,2015),'type':'house'}\n",
    "appartment = {'bedrooms': 2, 'bathrooms': 1, 'city': 'Burnaby', 'price': 699999, 'date_sold': (27,8,2011), 'type':'appartment'}"
   ]
  },
  {
   "cell_type": "code",
   "execution_count": 145,
   "metadata": {},
   "outputs": [
    {
     "data": {
      "text/plain": [
       "1000000"
      ]
     },
     "execution_count": 145,
     "metadata": {},
     "output_type": "execute_result"
    }
   ],
   "source": [
    "house['price']"
   ]
  },
  {
   "cell_type": "code",
   "execution_count": 146,
   "metadata": {},
   "outputs": [
    {
     "data": {
      "text/plain": [
       "(27, 8, 2011)"
      ]
     },
     "execution_count": 146,
     "metadata": {},
     "output_type": "execute_result"
    }
   ],
   "source": [
    "appartment['date_sold']"
   ]
  },
  {
   "cell_type": "code",
   "execution_count": 147,
   "metadata": {},
   "outputs": [
    {
     "name": "stdout",
     "output_type": "stream",
     "text": [
      "This is a:  house\n",
      "bedrooms: 3\n",
      "bathrooms: 2\n",
      "city: Vancouver\n",
      "price: 1000000\n",
      "date_sold: (1, 3, 2015)\n",
      "type: house\n",
      "This is a:  appartment\n",
      "bedrooms: 2\n",
      "bathrooms: 1\n",
      "city: Burnaby\n",
      "price: 699999\n",
      "date_sold: (27, 8, 2011)\n",
      "type: appartment\n"
     ]
    }
   ],
   "source": [
    "for x in [house, appartment]:\n",
    "    print('This is a: ', x['type'])\n",
    "    for housing_detail in x:\n",
    "        keys = x[housing_detail]\n",
    "        print('{0}: {1}'.format(housing_detail, keys))"
   ]
  },
  {
   "cell_type": "markdown",
   "metadata": {},
   "source": [
    "### Functions\n",
    "\n",
    "Define a function called `square` which takes one input parameter `n` and returns the square `n**2`."
   ]
  },
  {
   "cell_type": "code",
   "execution_count": 148,
   "metadata": {},
   "outputs": [],
   "source": [
    "def square(n):\n",
    "    square = n**2\n",
    "    return square"
   ]
  },
  {
   "cell_type": "code",
   "execution_count": 149,
   "metadata": {},
   "outputs": [
    {
     "data": {
      "text/plain": [
       "25"
      ]
     },
     "execution_count": 149,
     "metadata": {},
     "output_type": "execute_result"
    }
   ],
   "source": [
    "square(5)"
   ]
  },
  {
   "cell_type": "markdown",
   "metadata": {},
   "source": [
    "## Numpy\n",
    "Core scientific computation for Python\n"
   ]
  },
  {
   "cell_type": "code",
   "execution_count": 1,
   "metadata": {},
   "outputs": [],
   "source": [
    "# Load libraries\n",
    "import numpy as np"
   ]
  },
  {
   "cell_type": "markdown",
   "metadata": {},
   "source": [
    "An np.array is a grid of values of the same type, and is indexed by a tuple of nonnegative integers. \n",
    "The number of dimensions is the rank of the array; the shape of an array is a tuple of integers giving the size of the array along each dimension."
   ]
  },
  {
   "cell_type": "code",
   "execution_count": 168,
   "metadata": {},
   "outputs": [
    {
     "name": "stdout",
     "output_type": "stream",
     "text": [
      "<class 'numpy.ndarray'> (2, 3)\n",
      "[1 2 3] [[3 5 6]]\n"
     ]
    }
   ],
   "source": [
    "a = np.array([[1,2,3],[3,5,6]])  # Create a rank 2 array\n",
    "print(type(a), a.shape) \n",
    "print(a[0], a[1:2])"
   ]
  },
  {
   "cell_type": "code",
   "execution_count": 174,
   "metadata": {},
   "outputs": [
    {
     "name": "stdout",
     "output_type": "stream",
     "text": [
      "[[0. 0. 0.]\n",
      " [0. 0. 0.]\n",
      " [0. 0. 0.]]\n",
      "[[1. 1. 1.]\n",
      " [1. 1. 1.]\n",
      " [1. 1. 1.]]\n"
     ]
    }
   ],
   "source": [
    "# Ways to create arrays\n",
    "# Other ways include random (random) or constant (full), identity (eye)\n",
    "b = np.zeros((3,3))  # Create an array of all zeros\n",
    "c = np.ones((3,3))   # Create an array of all ones\n",
    "print(b)\n",
    "print(c)"
   ]
  },
  {
   "cell_type": "markdown",
   "metadata": {},
   "source": [
    "Arrays can be indexed same as Python lists."
   ]
  },
  {
   "cell_type": "code",
   "execution_count": 177,
   "metadata": {},
   "outputs": [
    {
     "name": "stdout",
     "output_type": "stream",
     "text": [
      "[[2 3]\n",
      " [5 6]]\n"
     ]
    }
   ],
   "source": [
    "b = np.array([[1,2,3,4], [5,6,7,8], [9,10,11,12]])\n",
    "# Slicing to pull out the subarray of the first 2 rows and columns 1 and 2\n",
    "\n",
    "b = a[:2, 1:3]\n",
    "print(b)"
   ]
  },
  {
   "cell_type": "code",
   "execution_count": 184,
   "metadata": {},
   "outputs": [
    {
     "name": "stdout",
     "output_type": "stream",
     "text": [
      "[[1 2 3]\n",
      " [3 5 6]]\n",
      "row 1:  [1 2 3]\n",
      "column 1:  [1 3]\n"
     ]
    }
   ],
   "source": [
    "# Accessing rows and columns\n",
    "row_r1 = a[0, :]    # First row of a  \n",
    "col_r1 = a[:, 0]    # First column of a  \n",
    "print(a)\n",
    "print('row 1: ', row_r1)\n",
    "print('column 1: ', col_r1)"
   ]
  },
  {
   "cell_type": "markdown",
   "metadata": {},
   "source": [
    "Arrays can have multiple operations:"
   ]
  },
  {
   "cell_type": "code",
   "execution_count": 198,
   "metadata": {},
   "outputs": [
    {
     "name": "stdout",
     "output_type": "stream",
     "text": [
      "sum:\n",
      " [[ 9 11]\n",
      " [ 7  9]]\n",
      "substraction:\n",
      " [[-7 -7]\n",
      " [-7 -7]]\n",
      "multiplication:\n",
      " [[ 8 18]\n",
      " [ 0  8]]\n",
      "division:\n",
      " [[0.125      0.22222222]\n",
      " [0.         0.125     ]]\n",
      "dot product: \n",
      " [[22 25]\n",
      " [ 7  8]]\n",
      "transpose: \n",
      " [[1 0]\n",
      " [2 1]]\n"
     ]
    }
   ],
   "source": [
    "x = np.array([[1,2],[0,1]])\n",
    "y = np.array([[8,9],[7,8]])\n",
    "\n",
    "# Addition\n",
    "print('sum:\\n', x + y)\n",
    "\n",
    "# Substraction\n",
    "print('substraction:\\n', x - y)\n",
    "\n",
    "# Multiplication\n",
    "print('multiplication:\\n', x * y)\n",
    "\n",
    "# Elementwise division\n",
    "print('division:\\n', x / y)\n",
    "\n",
    "# Dot product\n",
    "print('dot product: \\n', x.dot(y))\n",
    "\n",
    "# Transpose\n",
    "print('transpose: \\n', x.T)"
   ]
  },
  {
   "cell_type": "code",
   "execution_count": 199,
   "metadata": {},
   "outputs": [
    {
     "name": "stdout",
     "output_type": "stream",
     "text": [
      "4\n",
      "[1 3]\n",
      "[3 1]\n"
     ]
    }
   ],
   "source": [
    "# Computation on arrays\n",
    "print(np.sum(x))  # Compute sum of all elements\"\n",
    "print(np.sum(x, axis=0))  # Compute sum of each column\"\n",
    "print(np.sum(x, axis=1))  # Compute sum of each row\""
   ]
  },
  {
   "cell_type": "markdown",
   "metadata": {},
   "source": [
    "### Broadcasting\n",
    "\n",
    "Many times, we want to add a smaller vector into a larger vector. What we would expect to happen, is that the smaller vector would be reused as long as the larger vector needs it. \n",
    "\n",
    "For this purpose, we have broadcasting."
   ]
  },
  {
   "cell_type": "code",
   "execution_count": 200,
   "metadata": {},
   "outputs": [
    {
     "name": "stdout",
     "output_type": "stream",
     "text": [
      "[[ 2  2  4]\n",
      " [ 5  5  7]\n",
      " [ 8  8 10]\n",
      " [11 11 13]]\n"
     ]
    }
   ],
   "source": [
    "x = np.array([[1,2,3], [4,5,6], [7,8,9], [10, 11, 12]])\n",
    "v = np.array([1, 0, 1])\n",
    "y = x + v  # Add v to each row of x using broadcasting\n",
    "print(y)"
   ]
  },
  {
   "cell_type": "markdown",
   "metadata": {},
   "source": [
    "This was just a small review of datatypes and numpy basics.\n",
    "\n",
    "The next Jupyter notebook will be using matplotlib."
   ]
  }
 ],
 "metadata": {
  "kernelspec": {
   "display_name": "Python 3",
   "language": "python",
   "name": "python3"
  },
  "language_info": {
   "codemirror_mode": {
    "name": "ipython",
    "version": 3
   },
   "file_extension": ".py",
   "mimetype": "text/x-python",
   "name": "python",
   "nbconvert_exporter": "python",
   "pygments_lexer": "ipython3",
   "version": "3.7.3"
  }
 },
 "nbformat": 4,
 "nbformat_minor": 2
}
