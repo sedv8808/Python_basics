{
 "cells": [
  {
   "cell_type": "markdown",
   "metadata": {},
   "source": [
    "# Scikit Learn Tutorial"
   ]
  },
  {
   "cell_type": "code",
   "execution_count": 1,
   "metadata": {},
   "outputs": [],
   "source": [
    "import pandas as pd\n",
    "import matplotlib.pyplot as plt\n",
    "%matplotlib inline\n",
    "import numpy as np\n",
    "from sklearn import tree \n",
    "from sklearn.model_selection import train_test_split\n",
    "from sklearn.neighbors import KNeighborsClassifier"
   ]
  },
  {
   "cell_type": "markdown",
   "metadata": {},
   "source": [
    "In this notebook, I will just demonstrate the basics of sklearn. I will implement a k-NN algorithm using sklearn dataset 'Iris'."
   ]
  },
  {
   "cell_type": "markdown",
   "metadata": {},
   "source": [
    "## $k$-Nearest Neighbours ($k$-NN)\n",
    "\n",
    "[Iris Dataset](https://scikit-learn.org/stable/auto_examples/datasets/plot_iris_dataset.html) contains three different types of irises: _Setosa_ (0.0), _Versicolour_ (1.0), and _Virginica_ (2.0) along with their sepal length-width and petal length-width features. "
   ]
  },
  {
   "cell_type": "code",
   "execution_count": 2,
   "metadata": {},
   "outputs": [
    {
     "data": {
      "text/html": [
       "<div>\n",
       "<style scoped>\n",
       "    .dataframe tbody tr th:only-of-type {\n",
       "        vertical-align: middle;\n",
       "    }\n",
       "\n",
       "    .dataframe tbody tr th {\n",
       "        vertical-align: top;\n",
       "    }\n",
       "\n",
       "    .dataframe thead th {\n",
       "        text-align: right;\n",
       "    }\n",
       "</style>\n",
       "<table border=\"1\" class=\"dataframe\">\n",
       "  <thead>\n",
       "    <tr style=\"text-align: right;\">\n",
       "      <th></th>\n",
       "      <th>sepal length (cm)</th>\n",
       "      <th>sepal width (cm)</th>\n",
       "      <th>petal length (cm)</th>\n",
       "      <th>petal width (cm)</th>\n",
       "      <th>target</th>\n",
       "    </tr>\n",
       "  </thead>\n",
       "  <tbody>\n",
       "    <tr>\n",
       "      <td>0</td>\n",
       "      <td>5.1</td>\n",
       "      <td>3.5</td>\n",
       "      <td>1.4</td>\n",
       "      <td>0.2</td>\n",
       "      <td>0.0</td>\n",
       "    </tr>\n",
       "    <tr>\n",
       "      <td>1</td>\n",
       "      <td>4.9</td>\n",
       "      <td>3.0</td>\n",
       "      <td>1.4</td>\n",
       "      <td>0.2</td>\n",
       "      <td>0.0</td>\n",
       "    </tr>\n",
       "    <tr>\n",
       "      <td>2</td>\n",
       "      <td>4.7</td>\n",
       "      <td>3.2</td>\n",
       "      <td>1.3</td>\n",
       "      <td>0.2</td>\n",
       "      <td>0.0</td>\n",
       "    </tr>\n",
       "    <tr>\n",
       "      <td>3</td>\n",
       "      <td>4.6</td>\n",
       "      <td>3.1</td>\n",
       "      <td>1.5</td>\n",
       "      <td>0.2</td>\n",
       "      <td>0.0</td>\n",
       "    </tr>\n",
       "    <tr>\n",
       "      <td>4</td>\n",
       "      <td>5.0</td>\n",
       "      <td>3.6</td>\n",
       "      <td>1.4</td>\n",
       "      <td>0.2</td>\n",
       "      <td>0.0</td>\n",
       "    </tr>\n",
       "  </tbody>\n",
       "</table>\n",
       "</div>"
      ],
      "text/plain": [
       "   sepal length (cm)  sepal width (cm)  petal length (cm)  petal width (cm)  \\\n",
       "0                5.1               3.5                1.4               0.2   \n",
       "1                4.9               3.0                1.4               0.2   \n",
       "2                4.7               3.2                1.3               0.2   \n",
       "3                4.6               3.1                1.5               0.2   \n",
       "4                5.0               3.6                1.4               0.2   \n",
       "\n",
       "   target  \n",
       "0     0.0  \n",
       "1     0.0  \n",
       "2     0.0  \n",
       "3     0.0  \n",
       "4     0.0  "
      ]
     },
     "execution_count": 2,
     "metadata": {},
     "output_type": "execute_result"
    }
   ],
   "source": [
    "from sklearn.datasets import load_iris    \n",
    "# Load data set.\n",
    "iris = load_iris()\n",
    "\n",
    "# The previous data set is an array, change to a pandas dataframe.\n",
    "iris_df = pd.DataFrame(data= np.c_[iris['data'], iris['target']],\n",
    "                     columns= iris['feature_names'] + ['target'])\n",
    "iris_df.head()"
   ]
  },
  {
   "cell_type": "markdown",
   "metadata": {},
   "source": [
    "In order to apply any ML algorithm, we need to divide our dataset into Train and Test sets. Sometimes, we can have a validation test, depending on our data amount and objective. For purposes of this example, we will just have a Train Set consisisting of 80% of the data and a Test set of the remaining 20%. We do this using train_test_split from sklearn package. "
   ]
  },
  {
   "cell_type": "code",
   "execution_count": 3,
   "metadata": {},
   "outputs": [
    {
     "name": "stdout",
     "output_type": "stream",
     "text": [
      "Train accuracy:  0.9666666666666667\n",
      "Test accuracy:  0.9666666666666667\n"
     ]
    }
   ],
   "source": [
    "# Define our feature columns\n",
    "feature_cols = ['sepal length (cm)', \n",
    "                'sepal width (cm)', \n",
    "                'petal length (cm)',\n",
    "                'petal width (cm)']\n",
    "X = iris_df.loc[:, feature_cols]\n",
    "\n",
    "# Define our target column\n",
    "y = iris_df.target\n",
    "\n",
    "# Split the data into 80%-20% train-test split.\n",
    "X_train, X_test, y_train, y_test = train_test_split(X, y, test_size=0.20, random_state=14)\n",
    "\n",
    "# Fit a $k$-NN model on the train split and evaluate the model on the splits. \n",
    "# The hyperparameter k is scikit-learn-s default value of 5.\n",
    "model = KNeighborsClassifier()\n",
    "model.fit(X_train, y_train)\n",
    "print('Train accuracy: ', model.score(X_train, y_train))\n",
    "print('Test accuracy: ', model.score(X_test, y_test))"
   ]
  },
  {
   "cell_type": "markdown",
   "metadata": {},
   "source": [
    "In the previous example, we set up k to be 5 and I said that was our first hyperparameter (a parameter whose value is defined before the learning process begins).\n",
    "\n",
    "$k$-NN has two hyperparameters:\n",
    "- the number of nearest neighbours ($k$)\n",
    "- the definition of distance\n",
    "\n",
    "That means that any data point's $k$ nearest neighbours will define how this new data point will be classified. As for the distance, we usually choose to work with the Euclidean distance, however, depending the scenario, we might want to rethink which metric we want to use."
   ]
  },
  {
   "cell_type": "markdown",
   "metadata": {},
   "source": [
    "When we want to find the best $k$ for this example, it might be worthy to experiment with possible $k$ values and see how they perform.\n",
    "\n",
    "A tool that can help us find the best $k$ is cross-validation (A resampling procedure used to evaluate machine learning models on a limited data sample). "
   ]
  },
  {
   "cell_type": "code",
   "execution_count": 4,
   "metadata": {},
   "outputs": [],
   "source": [
    "from sklearn.model_selection import cross_val_score"
   ]
  },
  {
   "cell_type": "code",
   "execution_count": 5,
   "metadata": {},
   "outputs": [],
   "source": [
    "avg_scores = []  \n",
    "nfolds = 10\n",
    "max_k = 50\n",
    "k_neighs = range(1, max_k)\n",
    "\n",
    "for k in k_neighs:\n",
    "    model = KNeighborsClassifier(n_neighbors=k)\n",
    "    avg_scores.append(np.mean(cross_val_score(model, X_train, y_train,\n",
    "                                 cv=nfolds, scoring='accuracy')))"
   ]
  },
  {
   "cell_type": "markdown",
   "metadata": {},
   "source": [
    "We can plot validation performance for different $k$ values and find what value of $k$ gives the best accuracy."
   ]
  },
  {
   "cell_type": "code",
   "execution_count": 6,
   "metadata": {},
   "outputs": [
    {
     "data": {
      "text/plain": [
       "(0.9, 1.0)"
      ]
     },
     "execution_count": 6,
     "metadata": {},
     "output_type": "execute_result"
    },
    {
     "data": {
      "image/png": "[encoded data removed]",
      "text/plain": [
       "<Figure size 432x288 with 1 Axes>"
      ]
     },
     "metadata": {
      "needs_background": "light"
     },
     "output_type": "display_data"
    }
   ],
   "source": [
    "plt.plot(range(1, max_k), avg_scores)\n",
    "plt.xlabel('k')\n",
    "plt.ylabel('Accuracy')\n",
    "plt.title('k vs. accuracy')\n",
    "plt.ylim(0.90,1.0)"
   ]
  },
  {
   "cell_type": "code",
   "execution_count": 7,
   "metadata": {},
   "outputs": [
    {
     "data": {
      "text/plain": [
       "16"
      ]
     },
     "execution_count": 7,
     "metadata": {},
     "output_type": "execute_result"
    }
   ],
   "source": [
    "# Find the k that renders the best score.\n",
    "best_k = k_neighs[np.argmax(avg_scores)]\n",
    "best_k"
   ]
  },
  {
   "cell_type": "code",
   "execution_count": 8,
   "metadata": {},
   "outputs": [
    {
     "name": "stdout",
     "output_type": "stream",
     "text": [
      "Accuracy on the test set with k = 16  is  0.9666666666666667\n"
     ]
    }
   ],
   "source": [
    "model = KNeighborsClassifier(n_neighbors=best_k)\n",
    "model.fit(X_train, y_train)\n",
    "print('Accuracy on the test set with k =', best_k, ' is ', model.score(X_test, y_test))"
   ]
  },
  {
   "cell_type": "code",
   "execution_count": null,
   "metadata": {},
   "outputs": [],
   "source": []
  }
 ],
 "metadata": {
  "kernelspec": {
   "display_name": "Python 3",
   "language": "python",
   "name": "python3"
  },
  "language_info": {
   "codemirror_mode": {
    "name": "ipython",
    "version": 3
   },
   "file_extension": ".py",
   "mimetype": "text/x-python",
   "name": "python",
   "nbconvert_exporter": "python",
   "pygments_lexer": "ipython3",
   "version": "3.7.4"
  }
 },
 "nbformat": 4,
 "nbformat_minor": 4
}
