{
 "cells": [
  {
   "cell_type": "markdown",
   "metadata": {},
   "source": [
    "# Random Forest Tutorial"
   ]
  },
  {
   "cell_type": "code",
   "execution_count": 179,
   "metadata": {},
   "outputs": [],
   "source": [
    "import pandas as pd\n",
    "import matplotlib.pyplot as plt\n",
    "%matplotlib inline\n",
    "import numpy as np\n",
    "\n",
    "from sklearn.model_selection import train_test_split\n",
    "from sklearn import tree \n",
    "\n",
    "from sklearn.tree import DecisionTreeClassifier\n",
    "from sklearn.neighbors import KNeighborsClassifier\n",
    "\n",
    "# For tokenization\n",
    "import nltk\n",
    "# For converting words into frequency counts\n",
    "from sklearn.feature_extraction.text import CountVectorizer"
   ]
  },
  {
   "cell_type": "markdown",
   "metadata": {},
   "source": [
    "* Every tree in a random forest uses a different bootstrap sample of the training set.\n",
    "* To train a tree in a random forest, a first randomly select a subset of features. \n",
    "* A reasonable implementation for random forests would be for each tree to \"vote\"."
   ]
  },
  {
   "cell_type": "markdown",
   "metadata": {},
   "source": [
    "## Data and preprocessing\n",
    "\n",
    "I am going to do some sentiment analysis with the [IMDB movie review data set](https://www.kaggle.com/utathya/imdb-review-dataset). The task is to assign positive or negative label to a text based on the sentiment or attitude expressed in it. For speed, I will subset the dataset to 5000 samples."
   ]
  },
  {
   "cell_type": "code",
   "execution_count": 133,
   "metadata": {},
   "outputs": [
    {
     "data": {
      "text/html": [
       "<div>\n",
       "<style scoped>\n",
       "    .dataframe tbody tr th:only-of-type {\n",
       "        vertical-align: middle;\n",
       "    }\n",
       "\n",
       "    .dataframe tbody tr th {\n",
       "        vertical-align: top;\n",
       "    }\n",
       "\n",
       "    .dataframe thead th {\n",
       "        text-align: right;\n",
       "    }\n",
       "</style>\n",
       "<table border=\"1\" class=\"dataframe\">\n",
       "  <thead>\n",
       "    <tr style=\"text-align: right;\">\n",
       "      <th></th>\n",
       "      <th>Unnamed: 0</th>\n",
       "      <th>type</th>\n",
       "      <th>review</th>\n",
       "      <th>label</th>\n",
       "      <th>file</th>\n",
       "    </tr>\n",
       "  </thead>\n",
       "  <tbody>\n",
       "    <tr>\n",
       "      <td>0</td>\n",
       "      <td>0</td>\n",
       "      <td>test</td>\n",
       "      <td>Once again Mr. Costner has dragged out a movie...</td>\n",
       "      <td>neg</td>\n",
       "      <td>0_2.txt</td>\n",
       "    </tr>\n",
       "    <tr>\n",
       "      <td>1</td>\n",
       "      <td>1</td>\n",
       "      <td>test</td>\n",
       "      <td>This is an example of why the majority of acti...</td>\n",
       "      <td>neg</td>\n",
       "      <td>10000_4.txt</td>\n",
       "    </tr>\n",
       "    <tr>\n",
       "      <td>2</td>\n",
       "      <td>2</td>\n",
       "      <td>test</td>\n",
       "      <td>First of all I hate those moronic rappers, who...</td>\n",
       "      <td>neg</td>\n",
       "      <td>10001_1.txt</td>\n",
       "    </tr>\n",
       "    <tr>\n",
       "      <td>3</td>\n",
       "      <td>3</td>\n",
       "      <td>test</td>\n",
       "      <td>Not even the Beatles could write songs everyon...</td>\n",
       "      <td>neg</td>\n",
       "      <td>10002_3.txt</td>\n",
       "    </tr>\n",
       "    <tr>\n",
       "      <td>4</td>\n",
       "      <td>4</td>\n",
       "      <td>test</td>\n",
       "      <td>Brass pictures (movies is not a fitting word f...</td>\n",
       "      <td>neg</td>\n",
       "      <td>10003_3.txt</td>\n",
       "    </tr>\n",
       "  </tbody>\n",
       "</table>\n",
       "</div>"
      ],
      "text/plain": [
       "   Unnamed: 0  type                                             review label  \\\n",
       "0           0  test  Once again Mr. Costner has dragged out a movie...   neg   \n",
       "1           1  test  This is an example of why the majority of acti...   neg   \n",
       "2           2  test  First of all I hate those moronic rappers, who...   neg   \n",
       "3           3  test  Not even the Beatles could write songs everyon...   neg   \n",
       "4           4  test  Brass pictures (movies is not a fitting word f...   neg   \n",
       "\n",
       "          file  \n",
       "0      0_2.txt  \n",
       "1  10000_4.txt  \n",
       "2  10001_1.txt  \n",
       "3  10002_3.txt  \n",
       "4  10003_3.txt  "
      ]
     },
     "execution_count": 133,
     "metadata": {},
     "output_type": "execute_result"
    }
   ],
   "source": [
    "# Read IMDB movie reviews into a pandas DataFrame\n",
    "imdb_df = pd.read_csv('data/imdb_master.csv', encoding = \"ISO-8859-1\")\n",
    "imdb_df.head()"
   ]
  },
  {
   "cell_type": "code",
   "execution_count": 134,
   "metadata": {},
   "outputs": [],
   "source": [
    "from nltk.corpus import stopwords\n",
    "import string\n",
    "stop_words_extended = list(set(stopwords.words('english')))\n",
    "stop_words_extended.extend(['``','`','br','\"',\"”\", \"''\", \"'s\", '!', '#','$','%','&', \"'\", \"''\", \"'d\", \"'ll\", \"'m\", \"'re\", \"'s\", \"'the\", \"'ve\", '(', ')', '*', '**', '***', '****', ',', '-', '--', '.', '..', '...', '.the', '/', '0', '1', '1.', '1/10', '1/2', '10', '10.', '10/10', '100', '11', '12', '13', '13th', '14', '15', '16', '17', '18', '1930s', '1939', '1940', '1950', '1950s', '1960', '1960s', '1970', '1970s', '1978', '1980', '1980s', '1983', '1984', '1997', '1999', '1st', '2', '2.', '2/10', '20', '2000', '2001', '2003', '2004', '2005', '2006', '2007', '20th', '24', '25', '2nd', '3', '3.', '3/10', '30', '3rd', '4', '4/10', '40', '45', '5', '50', '6', '60', '60s', '7', '7/10', '70', '70s', '8', '8/10', '80', '80s', '9', '9/10', '90', '90s', ':', ';', '<', '>', '?', '@', '[', ']', '`', '``'])"
   ]
  },
  {
   "cell_type": "code",
   "execution_count": 135,
   "metadata": {},
   "outputs": [
    {
     "name": "stderr",
     "output_type": "stream",
     "text": [
      "/Users/seiryu8808/opt/anaconda3/lib/python3.7/site-packages/sklearn/feature_extraction/text.py:300: UserWarning: Your stop_words may be inconsistent with your preprocessing. Tokenizing the stop words generated tokens ['could', 'might', 'must', \"n't\", 'need', 'sha', 'wo', 'would'] not in stop_words.\n",
      "  'stop_words.' % sorted(inconsistent))\n"
     ]
    }
   ],
   "source": [
    "# Only keep the reviews with pos and neg labels\n",
    "imdb_df = imdb_df[imdb_df['label'].str.startswith(('pos','neg'))]\n",
    "\n",
    "# Sample 5000 rows from the dataframe. \n",
    "imdb_df_subset = imdb_df.sample(n = 5000)\n",
    "\n",
    "# Convert a collection of text documents to a matrix of token presence or absence. \n",
    "# We are using only 5000 words, English stopwords, and tokenization is done using\n",
    "# nltk, which is a popular text processing library.\n",
    "movie_vec = CountVectorizer(max_features=5000, \n",
    "                            tokenizer=nltk.word_tokenize, \n",
    "                            stop_words=stop_words_extended, #Removed punctuation, some numbers, and special characters\n",
    "                            binary = True)\n",
    "# Create X and y\n",
    "X_imdb = movie_vec.fit_transform(imdb_df_subset['review'])\n",
    "y_imdb = imdb_df_subset.label"
   ]
  },
  {
   "cell_type": "code",
   "execution_count": 180,
   "metadata": {},
   "outputs": [
    {
     "data": {
      "text/html": [
       "<div>\n",
       "<style scoped>\n",
       "    .dataframe tbody tr th:only-of-type {\n",
       "        vertical-align: middle;\n",
       "    }\n",
       "\n",
       "    .dataframe tbody tr th {\n",
       "        vertical-align: top;\n",
       "    }\n",
       "\n",
       "    .dataframe thead th {\n",
       "        text-align: right;\n",
       "    }\n",
       "</style>\n",
       "<table border=\"1\" class=\"dataframe\">\n",
       "  <thead>\n",
       "    <tr style=\"text-align: right;\">\n",
       "      <th></th>\n",
       "      <th>Unnamed: 0</th>\n",
       "      <th>type</th>\n",
       "      <th>review</th>\n",
       "      <th>label</th>\n",
       "      <th>file</th>\n",
       "      <th>odd_char</th>\n",
       "    </tr>\n",
       "  </thead>\n",
       "  <tbody>\n",
       "    <tr>\n",
       "      <td>24639</td>\n",
       "      <td>24639</td>\n",
       "      <td>test</td>\n",
       "      <td>When I first saw this show, I was 9, and it ca...</td>\n",
       "      <td>pos</td>\n",
       "      <td>9677_10.txt</td>\n",
       "      <td>False</td>\n",
       "    </tr>\n",
       "    <tr>\n",
       "      <td>30822</td>\n",
       "      <td>30822</td>\n",
       "      <td>train</td>\n",
       "      <td>I'm not sure why Spike Lee made this train wre...</td>\n",
       "      <td>neg</td>\n",
       "      <td>3991_4.txt</td>\n",
       "      <td>False</td>\n",
       "    </tr>\n",
       "    <tr>\n",
       "      <td>4404</td>\n",
       "      <td>4404</td>\n",
       "      <td>test</td>\n",
       "      <td>Do you get it? Like the car. These are the jok...</td>\n",
       "      <td>neg</td>\n",
       "      <td>2714_2.txt</td>\n",
       "      <td>False</td>\n",
       "    </tr>\n",
       "    <tr>\n",
       "      <td>4004</td>\n",
       "      <td>4004</td>\n",
       "      <td>test</td>\n",
       "      <td>As I post this comment, IMDb currently rates A...</td>\n",
       "      <td>neg</td>\n",
       "      <td>2354_3.txt</td>\n",
       "      <td>False</td>\n",
       "    </tr>\n",
       "    <tr>\n",
       "      <td>43136</td>\n",
       "      <td>43136</td>\n",
       "      <td>train</td>\n",
       "      <td>I saw this film in the worst possible circumst...</td>\n",
       "      <td>pos</td>\n",
       "      <td>3823_9.txt</td>\n",
       "      <td>False</td>\n",
       "    </tr>\n",
       "  </tbody>\n",
       "</table>\n",
       "</div>"
      ],
      "text/plain": [
       "       Unnamed: 0   type                                             review  \\\n",
       "24639       24639   test  When I first saw this show, I was 9, and it ca...   \n",
       "30822       30822  train  I'm not sure why Spike Lee made this train wre...   \n",
       "4404         4404   test  Do you get it? Like the car. These are the jok...   \n",
       "4004         4004   test  As I post this comment, IMDb currently rates A...   \n",
       "43136       43136  train  I saw this film in the worst possible circumst...   \n",
       "\n",
       "      label         file  odd_char  \n",
       "24639   pos  9677_10.txt     False  \n",
       "30822   neg   3991_4.txt     False  \n",
       "4404    neg   2714_2.txt     False  \n",
       "4004    neg   2354_3.txt     False  \n",
       "43136   pos   3823_9.txt     False  "
      ]
     },
     "execution_count": 180,
     "metadata": {},
     "output_type": "execute_result"
    }
   ],
   "source": [
    "imdb_df_subset.head()"
   ]
  },
  {
   "cell_type": "markdown",
   "metadata": {},
   "source": [
    "## Random Forests"
   ]
  },
  {
   "cell_type": "markdown",
   "metadata": {},
   "source": [
    "### Steps that need to be taken in Scikit Learn\n",
    "\n",
    "1. Split `X_imdb` into train (80%) and test (20%). \n",
    "2. Train a [random forest classifier](http://scikit-learn.org/stable/modules/generated/sklearn.ensemble.RandomForestClassifier.html) on the train portion.\n",
    "4. Score the classifier on the test portion and compare the results with the training score."
   ]
  },
  {
   "cell_type": "code",
   "execution_count": 53,
   "metadata": {},
   "outputs": [],
   "source": [
    "from sklearn.ensemble import RandomForestClassifier"
   ]
  },
  {
   "cell_type": "code",
   "execution_count": 54,
   "metadata": {},
   "outputs": [],
   "source": [
    "# Split the data\n",
    "X_train, X_test, y_train, y_test = train_test_split(X_imdb, \n",
    "                                                    y_imdb, \n",
    "                                                    test_size = 0.20, \n",
    "                                                    random_state = 12)"
   ]
  },
  {
   "cell_type": "code",
   "execution_count": 55,
   "metadata": {},
   "outputs": [
    {
     "data": {
      "text/plain": [
       "RandomForestClassifier(bootstrap=True, class_weight=None, criterion='gini',\n",
       "                       max_depth=None, max_features='auto', max_leaf_nodes=None,\n",
       "                       min_impurity_decrease=0.0, min_impurity_split=None,\n",
       "                       min_samples_leaf=1, min_samples_split=2,\n",
       "                       min_weight_fraction_leaf=0.0, n_estimators=100,\n",
       "                       n_jobs=None, oob_score=False, random_state=None,\n",
       "                       verbose=0, warm_start=False)"
      ]
     },
     "execution_count": 55,
     "metadata": {},
     "output_type": "execute_result"
    }
   ],
   "source": [
    "random_forest = RandomForestClassifier(n_estimators = 100)\n",
    "random_forest.fit(X_train, y_train)"
   ]
  },
  {
   "cell_type": "code",
   "execution_count": 56,
   "metadata": {},
   "outputs": [
    {
     "data": {
      "text/plain": [
       "0.819"
      ]
     },
     "execution_count": 56,
     "metadata": {},
     "output_type": "execute_result"
    }
   ],
   "source": [
    "random_forest.score(X_test, y_test)"
   ]
  },
  {
   "cell_type": "markdown",
   "metadata": {},
   "source": [
    "The accuracy of the random forest classifier is very high when using 100 trees.  "
   ]
  },
  {
   "cell_type": "markdown",
   "metadata": {},
   "source": [
    "**Note:** After adding more symbols and punctuation in the stopwords, the accuracy of the model fell by almost 7%"
   ]
  },
  {
   "cell_type": "markdown",
   "metadata": {},
   "source": [
    "## What makes a good feature to our trees?\n",
    "\n",
    "We are setting the number of trees we are interested in, and we may be able to define also the depth per tree. But what are the words that are making the splits? The previous model uses GINI coefficient. GINI is a measure of homogeneity, just as entropy. GINI however, is less computationally expensive. It lets us know how often a randomly chosen object from the set is labled incorrectly. It is measured from 0 to 0.5; 0 being that our data is more homogeneous. \n",
    "\n",
    "Let's see for our random forest what features are the ones that help us have best divisions. Can I improve this? "
   ]
  },
  {
   "cell_type": "code",
   "execution_count": 57,
   "metadata": {},
   "outputs": [],
   "source": [
    "feature_names = movie_vec.get_feature_names()"
   ]
  },
  {
   "cell_type": "code",
   "execution_count": 58,
   "metadata": {},
   "outputs": [
    {
     "data": {
      "text/plain": [
       "5000"
      ]
     },
     "execution_count": 58,
     "metadata": {},
     "output_type": "execute_result"
    }
   ],
   "source": [
    "random_forest.n_features_"
   ]
  },
  {
   "cell_type": "code",
   "execution_count": 59,
   "metadata": {},
   "outputs": [],
   "source": [
    "feature_importance = random_forest.feature_importances_\n",
    "feature_importance = 100.0 * (feature_importance / feature_importance.max())\n"
   ]
  },
  {
   "cell_type": "code",
   "execution_count": 60,
   "metadata": {},
   "outputs": [],
   "source": [
    "feats = {} # a dict to hold feature_name: feature_importance\n",
    "for feature, importance in zip(feature_names, feature_importance):\n",
    "    feats[feature] = importance #add the name/value pair "
   ]
  },
  {
   "cell_type": "code",
   "execution_count": 61,
   "metadata": {},
   "outputs": [
    {
     "data": {
      "text/plain": [
       "<matplotlib.axes._subplots.AxesSubplot at 0x1a1f769710>"
      ]
     },
     "execution_count": 61,
     "metadata": {},
     "output_type": "execute_result"
    },
    {
     "data": {
      "image/png": "[encoded data removed]",
      "text/plain": [
       "<Figure size 432x288 with 1 Axes>"
      ]
     },
     "metadata": {
      "needs_background": "light"
     },
     "output_type": "display_data"
    }
   ],
   "source": [
    "importances = pd.DataFrame.from_dict(feats, orient='index').rename(columns={0: 'Gini-importance'})\n",
    "importances.sort_values(by='Gini-importance', ascending=False)[:15].plot(kind='bar', rot=45)\n"
   ]
  },
  {
   "cell_type": "markdown",
   "metadata": {},
   "source": [
    "With the new stopwords removed, symbols did not figure out in our most important split features.\n",
    "\n",
    "With the new stop words, we can see words such as `bad` and `worst` gaining importance.\n",
    "\n",
    "However, I would also want to see which symbols I missed to remove and what importance they have according to their GINI gain. I will explore this later."
   ]
  },
  {
   "cell_type": "markdown",
   "metadata": {},
   "source": [
    "### Tuning hyperparameters\n",
    "\n",
    "1. How many trees should I use? \n",
    "2. Run a dictionary to report test and train scores for each value of n_estimators. \n",
    "3. Consider if this is under or overfitting."
   ]
  },
  {
   "cell_type": "code",
   "execution_count": 181,
   "metadata": {},
   "outputs": [
    {
     "data": {
      "text/html": [
       "<div>\n",
       "<style scoped>\n",
       "    .dataframe tbody tr th:only-of-type {\n",
       "        vertical-align: middle;\n",
       "    }\n",
       "\n",
       "    .dataframe tbody tr th {\n",
       "        vertical-align: top;\n",
       "    }\n",
       "\n",
       "    .dataframe thead th {\n",
       "        text-align: right;\n",
       "    }\n",
       "</style>\n",
       "<table border=\"1\" class=\"dataframe\">\n",
       "  <thead>\n",
       "    <tr style=\"text-align: right;\">\n",
       "      <th></th>\n",
       "      <th>n_estimators</th>\n",
       "      <th>train_score</th>\n",
       "      <th>test_score</th>\n",
       "    </tr>\n",
       "  </thead>\n",
       "  <tbody>\n",
       "    <tr>\n",
       "      <td>0</td>\n",
       "      <td>1</td>\n",
       "      <td>0.87575</td>\n",
       "      <td>0.683</td>\n",
       "    </tr>\n",
       "    <tr>\n",
       "      <td>1</td>\n",
       "      <td>6</td>\n",
       "      <td>0.96975</td>\n",
       "      <td>0.679</td>\n",
       "    </tr>\n",
       "    <tr>\n",
       "      <td>2</td>\n",
       "      <td>11</td>\n",
       "      <td>0.99825</td>\n",
       "      <td>0.742</td>\n",
       "    </tr>\n",
       "    <tr>\n",
       "      <td>3</td>\n",
       "      <td>16</td>\n",
       "      <td>0.99700</td>\n",
       "      <td>0.771</td>\n",
       "    </tr>\n",
       "    <tr>\n",
       "      <td>4</td>\n",
       "      <td>21</td>\n",
       "      <td>0.99975</td>\n",
       "      <td>0.787</td>\n",
       "    </tr>\n",
       "    <tr>\n",
       "      <td>5</td>\n",
       "      <td>26</td>\n",
       "      <td>1.00000</td>\n",
       "      <td>0.771</td>\n",
       "    </tr>\n",
       "    <tr>\n",
       "      <td>6</td>\n",
       "      <td>31</td>\n",
       "      <td>1.00000</td>\n",
       "      <td>0.778</td>\n",
       "    </tr>\n",
       "    <tr>\n",
       "      <td>7</td>\n",
       "      <td>36</td>\n",
       "      <td>1.00000</td>\n",
       "      <td>0.793</td>\n",
       "    </tr>\n",
       "    <tr>\n",
       "      <td>8</td>\n",
       "      <td>41</td>\n",
       "      <td>1.00000</td>\n",
       "      <td>0.802</td>\n",
       "    </tr>\n",
       "    <tr>\n",
       "      <td>9</td>\n",
       "      <td>46</td>\n",
       "      <td>1.00000</td>\n",
       "      <td>0.793</td>\n",
       "    </tr>\n",
       "    <tr>\n",
       "      <td>10</td>\n",
       "      <td>51</td>\n",
       "      <td>1.00000</td>\n",
       "      <td>0.818</td>\n",
       "    </tr>\n",
       "    <tr>\n",
       "      <td>11</td>\n",
       "      <td>56</td>\n",
       "      <td>1.00000</td>\n",
       "      <td>0.814</td>\n",
       "    </tr>\n",
       "    <tr>\n",
       "      <td>12</td>\n",
       "      <td>61</td>\n",
       "      <td>1.00000</td>\n",
       "      <td>0.813</td>\n",
       "    </tr>\n",
       "    <tr>\n",
       "      <td>13</td>\n",
       "      <td>66</td>\n",
       "      <td>1.00000</td>\n",
       "      <td>0.796</td>\n",
       "    </tr>\n",
       "    <tr>\n",
       "      <td>14</td>\n",
       "      <td>71</td>\n",
       "      <td>1.00000</td>\n",
       "      <td>0.811</td>\n",
       "    </tr>\n",
       "    <tr>\n",
       "      <td>15</td>\n",
       "      <td>76</td>\n",
       "      <td>1.00000</td>\n",
       "      <td>0.806</td>\n",
       "    </tr>\n",
       "    <tr>\n",
       "      <td>16</td>\n",
       "      <td>81</td>\n",
       "      <td>1.00000</td>\n",
       "      <td>0.816</td>\n",
       "    </tr>\n",
       "    <tr>\n",
       "      <td>17</td>\n",
       "      <td>86</td>\n",
       "      <td>1.00000</td>\n",
       "      <td>0.820</td>\n",
       "    </tr>\n",
       "    <tr>\n",
       "      <td>18</td>\n",
       "      <td>91</td>\n",
       "      <td>1.00000</td>\n",
       "      <td>0.818</td>\n",
       "    </tr>\n",
       "    <tr>\n",
       "      <td>19</td>\n",
       "      <td>96</td>\n",
       "      <td>1.00000</td>\n",
       "      <td>0.813</td>\n",
       "    </tr>\n",
       "  </tbody>\n",
       "</table>\n",
       "</div>"
      ],
      "text/plain": [
       "    n_estimators  train_score  test_score\n",
       "0              1      0.87575       0.683\n",
       "1              6      0.96975       0.679\n",
       "2             11      0.99825       0.742\n",
       "3             16      0.99700       0.771\n",
       "4             21      0.99975       0.787\n",
       "5             26      1.00000       0.771\n",
       "6             31      1.00000       0.778\n",
       "7             36      1.00000       0.793\n",
       "8             41      1.00000       0.802\n",
       "9             46      1.00000       0.793\n",
       "10            51      1.00000       0.818\n",
       "11            56      1.00000       0.814\n",
       "12            61      1.00000       0.813\n",
       "13            66      1.00000       0.796\n",
       "14            71      1.00000       0.811\n",
       "15            76      1.00000       0.806\n",
       "16            81      1.00000       0.816\n",
       "17            86      1.00000       0.820\n",
       "18            91      1.00000       0.818\n",
       "19            96      1.00000       0.813"
      ]
     },
     "execution_count": 181,
     "metadata": {},
     "output_type": "execute_result"
    }
   ],
   "source": [
    "n_estimators_dict = {'n_estimators':[], 'train_score':[], 'test_score':[]}\n",
    "\n",
    "# Jumping every 5 trees to speed up process.\n",
    "for n_est in range(1, 100, 5):\n",
    "    random_forest = RandomForestClassifier(n_estimators = n_est)\n",
    "    random_forest.fit(X_train, y_train)\n",
    "    \n",
    "    train_score = random_forest.score(X_train, y_train)        \n",
    "    test_score = random_forest.score(X_test, y_test)    \n",
    "\n",
    "    n_estimators_dict['n_estimators'].append(n_est)    \n",
    "    n_estimators_dict['train_score'].append(train_score)\n",
    "    n_estimators_dict['test_score'].append(test_score)\n",
    "n_estimators_df = pd.DataFrame(n_estimators_dict)\n",
    "n_estimators_df        "
   ]
  },
  {
   "cell_type": "code",
   "execution_count": 182,
   "metadata": {},
   "outputs": [
    {
     "data": {
      "image/png": "[encoded data removed]",
      "text/plain": [
       "<Figure size 432x288 with 1 Axes>"
      ]
     },
     "metadata": {
      "needs_background": "light"
     },
     "output_type": "display_data"
    }
   ],
   "source": [
    "plt.plot(n_estimators_dict['n_estimators'], n_estimators_dict['train_score'], label = 'train')\n",
    "plt.plot(n_estimators_dict['n_estimators'], n_estimators_dict['test_score'], label = 'test')\n",
    "plt.xlabel('n_estimators')\n",
    "plt.ylabel('Accuracy')\n",
    "plt.legend()\n",
    "plt.show()"
   ]
  },
  {
   "cell_type": "markdown",
   "metadata": {},
   "source": [
    "For the `n_estimators` hyperparameter, the training accuracy reaches to 1.0 for n_estimators > 31. The test accuracy more or less starts plateauing at this point. After 31, some models could be overfitting as their test_scores decrease.\n",
    "\n",
    "Now I want to see how deep should each tree go. I'll try with trees from 1 stump to 40 levels. "
   ]
  },
  {
   "cell_type": "code",
   "execution_count": 183,
   "metadata": {},
   "outputs": [
    {
     "data": {
      "text/html": [
       "<div>\n",
       "<style scoped>\n",
       "    .dataframe tbody tr th:only-of-type {\n",
       "        vertical-align: middle;\n",
       "    }\n",
       "\n",
       "    .dataframe tbody tr th {\n",
       "        vertical-align: top;\n",
       "    }\n",
       "\n",
       "    .dataframe thead th {\n",
       "        text-align: right;\n",
       "    }\n",
       "</style>\n",
       "<table border=\"1\" class=\"dataframe\">\n",
       "  <thead>\n",
       "    <tr style=\"text-align: right;\">\n",
       "      <th></th>\n",
       "      <th>depth</th>\n",
       "      <th>train_score</th>\n",
       "      <th>test_score</th>\n",
       "    </tr>\n",
       "  </thead>\n",
       "  <tbody>\n",
       "    <tr>\n",
       "      <td>0</td>\n",
       "      <td>1</td>\n",
       "      <td>0.58525</td>\n",
       "      <td>0.569</td>\n",
       "    </tr>\n",
       "    <tr>\n",
       "      <td>1</td>\n",
       "      <td>3</td>\n",
       "      <td>0.74050</td>\n",
       "      <td>0.714</td>\n",
       "    </tr>\n",
       "    <tr>\n",
       "      <td>2</td>\n",
       "      <td>5</td>\n",
       "      <td>0.80100</td>\n",
       "      <td>0.747</td>\n",
       "    </tr>\n",
       "    <tr>\n",
       "      <td>3</td>\n",
       "      <td>7</td>\n",
       "      <td>0.84000</td>\n",
       "      <td>0.754</td>\n",
       "    </tr>\n",
       "    <tr>\n",
       "      <td>4</td>\n",
       "      <td>9</td>\n",
       "      <td>0.87175</td>\n",
       "      <td>0.775</td>\n",
       "    </tr>\n",
       "    <tr>\n",
       "      <td>5</td>\n",
       "      <td>11</td>\n",
       "      <td>0.88950</td>\n",
       "      <td>0.779</td>\n",
       "    </tr>\n",
       "    <tr>\n",
       "      <td>6</td>\n",
       "      <td>13</td>\n",
       "      <td>0.90050</td>\n",
       "      <td>0.778</td>\n",
       "    </tr>\n",
       "    <tr>\n",
       "      <td>7</td>\n",
       "      <td>15</td>\n",
       "      <td>0.92375</td>\n",
       "      <td>0.788</td>\n",
       "    </tr>\n",
       "    <tr>\n",
       "      <td>8</td>\n",
       "      <td>17</td>\n",
       "      <td>0.94025</td>\n",
       "      <td>0.797</td>\n",
       "    </tr>\n",
       "    <tr>\n",
       "      <td>9</td>\n",
       "      <td>19</td>\n",
       "      <td>0.95000</td>\n",
       "      <td>0.781</td>\n",
       "    </tr>\n",
       "    <tr>\n",
       "      <td>10</td>\n",
       "      <td>21</td>\n",
       "      <td>0.96400</td>\n",
       "      <td>0.780</td>\n",
       "    </tr>\n",
       "    <tr>\n",
       "      <td>11</td>\n",
       "      <td>23</td>\n",
       "      <td>0.95775</td>\n",
       "      <td>0.805</td>\n",
       "    </tr>\n",
       "    <tr>\n",
       "      <td>12</td>\n",
       "      <td>25</td>\n",
       "      <td>0.96625</td>\n",
       "      <td>0.796</td>\n",
       "    </tr>\n",
       "    <tr>\n",
       "      <td>13</td>\n",
       "      <td>27</td>\n",
       "      <td>0.97675</td>\n",
       "      <td>0.786</td>\n",
       "    </tr>\n",
       "    <tr>\n",
       "      <td>14</td>\n",
       "      <td>29</td>\n",
       "      <td>0.97700</td>\n",
       "      <td>0.782</td>\n",
       "    </tr>\n",
       "    <tr>\n",
       "      <td>15</td>\n",
       "      <td>31</td>\n",
       "      <td>0.98025</td>\n",
       "      <td>0.799</td>\n",
       "    </tr>\n",
       "    <tr>\n",
       "      <td>16</td>\n",
       "      <td>33</td>\n",
       "      <td>0.97800</td>\n",
       "      <td>0.768</td>\n",
       "    </tr>\n",
       "    <tr>\n",
       "      <td>17</td>\n",
       "      <td>35</td>\n",
       "      <td>0.98100</td>\n",
       "      <td>0.796</td>\n",
       "    </tr>\n",
       "    <tr>\n",
       "      <td>18</td>\n",
       "      <td>37</td>\n",
       "      <td>0.99100</td>\n",
       "      <td>0.784</td>\n",
       "    </tr>\n",
       "    <tr>\n",
       "      <td>19</td>\n",
       "      <td>39</td>\n",
       "      <td>0.98775</td>\n",
       "      <td>0.779</td>\n",
       "    </tr>\n",
       "  </tbody>\n",
       "</table>\n",
       "</div>"
      ],
      "text/plain": [
       "    depth  train_score  test_score\n",
       "0       1      0.58525       0.569\n",
       "1       3      0.74050       0.714\n",
       "2       5      0.80100       0.747\n",
       "3       7      0.84000       0.754\n",
       "4       9      0.87175       0.775\n",
       "5      11      0.88950       0.779\n",
       "6      13      0.90050       0.778\n",
       "7      15      0.92375       0.788\n",
       "8      17      0.94025       0.797\n",
       "9      19      0.95000       0.781\n",
       "10     21      0.96400       0.780\n",
       "11     23      0.95775       0.805\n",
       "12     25      0.96625       0.796\n",
       "13     27      0.97675       0.786\n",
       "14     29      0.97700       0.782\n",
       "15     31      0.98025       0.799\n",
       "16     33      0.97800       0.768\n",
       "17     35      0.98100       0.796\n",
       "18     37      0.99100       0.784\n",
       "19     39      0.98775       0.779"
      ]
     },
     "execution_count": 183,
     "metadata": {},
     "output_type": "execute_result"
    }
   ],
   "source": [
    "max_depth_dict = {'depth':[], 'train_score':[], 'test_score':[]}\n",
    "\n",
    "for depth in range(1, 40, 2):\n",
    "    random_forest = RandomForestClassifier(n_estimators = 20, max_depth = depth)\n",
    "    random_forest.fit(X_train, y_train)\n",
    "    \n",
    "    train_score = random_forest.score(X_train, y_train)        \n",
    "    test_score = random_forest.score(X_test, y_test)    \n",
    "\n",
    "    max_depth_dict['depth'].append(depth)        \n",
    "    max_depth_dict['train_score'].append(train_score)\n",
    "    max_depth_dict['test_score'].append(test_score)    \n",
    "    \n",
    "max_depth_df = pd.DataFrame(max_depth_dict)\n",
    "max_depth_df"
   ]
  },
  {
   "cell_type": "code",
   "execution_count": 184,
   "metadata": {},
   "outputs": [
    {
     "data": {
      "image/png": "[encoded data removed]",
      "text/plain": [
       "<Figure size 432x288 with 1 Axes>"
      ]
     },
     "metadata": {
      "needs_background": "light"
     },
     "output_type": "display_data"
    }
   ],
   "source": [
    "plt.plot(max_depth_dict['depth'], max_depth_dict['train_score'], label = 'train')\n",
    "plt.plot(max_depth_dict['depth'], max_depth_dict['test_score'], label = 'test')\n",
    "plt.xlabel('max_depth')\n",
    "plt.ylabel('Accuracy')\n",
    "plt.legend()\n",
    "plt.show()"
   ]
  },
  {
   "cell_type": "markdown",
   "metadata": {},
   "source": [
    "For the `max_depth` hyperparameter, the training accuracy keeps increasing but the test accuracy plateaus after max_depth = 11 indicating overfitting. "
   ]
  },
  {
   "cell_type": "markdown",
   "metadata": {},
   "source": [
    "**Some advantages of random forests include**\n",
    "1. Powerful and a great classifier. \n",
    "2. Predictions are faster than $k$-NN \n",
    "\n",
    "**Disdvantages of random forests**\n",
    "1. Slow training."
   ]
  },
  {
   "cell_type": "markdown",
   "metadata": {},
   "source": [
    "However, how much randomness is there really in **random** forests? Do the results change drastically if we re-fit a forest using the same data and same hyperparameters? Should that be that worrying?"
   ]
  },
  {
   "cell_type": "code",
   "execution_count": 185,
   "metadata": {},
   "outputs": [],
   "source": [
    "train_accuracies = []\n",
    "test_accuracies = []\n",
    "\n",
    "for i in range(20):\n",
    "    X_train, X_test, y_train, y_test = train_test_split(X_imdb, y_imdb, test_size = 0.20)\n",
    "    random_forest = RandomForestClassifier(n_estimators=5, max_depth = 100)\n",
    "    random_forest.fit(X_train, y_train)\n",
    "    train_accuracies.append(random_forest.score(X_train, y_train))    \n",
    "    test_accuracies.append(random_forest.score(X_test, y_test))"
   ]
  },
  {
   "cell_type": "code",
   "execution_count": 186,
   "metadata": {},
   "outputs": [
    {
     "data": {
      "image/png": "[encoded data removed]",
      "text/plain": [
       "<Figure size 432x288 with 1 Axes>"
      ]
     },
     "metadata": {
      "needs_background": "light"
     },
     "output_type": "display_data"
    }
   ],
   "source": [
    "plt.plot(range(20), train_accuracies, label = 'train')\n",
    "plt.plot(range(20), test_accuracies, label = 'test')\n",
    "plt.xlabel('Experiment number')\n",
    "plt.ylabel('Accuracy')\n",
    "plt.legend()\n",
    "plt.show()"
   ]
  },
  {
   "cell_type": "markdown",
   "metadata": {},
   "source": [
    "## Exploring symbols as features\n",
    "\n",
    "During the preprocessing of the data, I realized that some symbols were being considered as important features. This made me curious to figure out why some symbols would be considered such important features. \n",
    "\n",
    "I will see which features are being crucial despite being symbols."
   ]
  },
  {
   "cell_type": "code",
   "execution_count": 200,
   "metadata": {},
   "outputs": [],
   "source": [
    "pd.set_option('display.max_rows', 100)\n",
    "importance_equal = importances.sort_values(by='Gini-importance', ascending=False)\n",
    "#importance_equal[101:200]"
   ]
  },
  {
   "cell_type": "code",
   "execution_count": 201,
   "metadata": {},
   "outputs": [
    {
     "data": {
      "text/plain": [
       "Gini-importance    23.779692\n",
       "Name: n't, dtype: float64"
      ]
     },
     "execution_count": 201,
     "metadata": {},
     "output_type": "execute_result"
    }
   ],
   "source": [
    "# 'n't' is an important feature\n",
    "importance_equal.loc['n\\'t']"
   ]
  },
  {
   "cell_type": "markdown",
   "metadata": {},
   "source": [
    "We can see that n't is in the top 100 of most important features. We can see what reviews that use n't say and see if most movie reviews with this feature are positive or negative."
   ]
  },
  {
   "cell_type": "code",
   "execution_count": 203,
   "metadata": {},
   "outputs": [
    {
     "data": {
      "text/html": [
       "<div>\n",
       "<style scoped>\n",
       "    .dataframe tbody tr th:only-of-type {\n",
       "        vertical-align: middle;\n",
       "    }\n",
       "\n",
       "    .dataframe tbody tr th {\n",
       "        vertical-align: top;\n",
       "    }\n",
       "\n",
       "    .dataframe thead th {\n",
       "        text-align: right;\n",
       "    }\n",
       "</style>\n",
       "<table border=\"1\" class=\"dataframe\">\n",
       "  <thead>\n",
       "    <tr style=\"text-align: right;\">\n",
       "      <th></th>\n",
       "      <th>Unnamed: 0</th>\n",
       "      <th>type</th>\n",
       "      <th>review</th>\n",
       "      <th>label</th>\n",
       "      <th>file</th>\n",
       "      <th>odd_char</th>\n",
       "    </tr>\n",
       "  </thead>\n",
       "  <tbody>\n",
       "    <tr>\n",
       "      <td>24639</td>\n",
       "      <td>24639</td>\n",
       "      <td>test</td>\n",
       "      <td>When I first saw this show, I was 9, and it ca...</td>\n",
       "      <td>pos</td>\n",
       "      <td>9677_10.txt</td>\n",
       "      <td>False</td>\n",
       "    </tr>\n",
       "    <tr>\n",
       "      <td>30822</td>\n",
       "      <td>30822</td>\n",
       "      <td>train</td>\n",
       "      <td>I'm not sure why Spike Lee made this train wre...</td>\n",
       "      <td>neg</td>\n",
       "      <td>3991_4.txt</td>\n",
       "      <td>False</td>\n",
       "    </tr>\n",
       "    <tr>\n",
       "      <td>4404</td>\n",
       "      <td>4404</td>\n",
       "      <td>test</td>\n",
       "      <td>Do you get it? Like the car. These are the jok...</td>\n",
       "      <td>neg</td>\n",
       "      <td>2714_2.txt</td>\n",
       "      <td>False</td>\n",
       "    </tr>\n",
       "    <tr>\n",
       "      <td>4004</td>\n",
       "      <td>4004</td>\n",
       "      <td>test</td>\n",
       "      <td>As I post this comment, IMDb currently rates A...</td>\n",
       "      <td>neg</td>\n",
       "      <td>2354_3.txt</td>\n",
       "      <td>True</td>\n",
       "    </tr>\n",
       "    <tr>\n",
       "      <td>43136</td>\n",
       "      <td>43136</td>\n",
       "      <td>train</td>\n",
       "      <td>I saw this film in the worst possible circumst...</td>\n",
       "      <td>pos</td>\n",
       "      <td>3823_9.txt</td>\n",
       "      <td>True</td>\n",
       "    </tr>\n",
       "    <tr>\n",
       "      <td>15294</td>\n",
       "      <td>15294</td>\n",
       "      <td>test</td>\n",
       "      <td>I'm amazed that Memento (which is an excellent...</td>\n",
       "      <td>pos</td>\n",
       "      <td>1265_10.txt</td>\n",
       "      <td>True</td>\n",
       "    </tr>\n",
       "    <tr>\n",
       "      <td>48200</td>\n",
       "      <td>48200</td>\n",
       "      <td>train</td>\n",
       "      <td>This movie i've loved since i was young! Its e...</td>\n",
       "      <td>pos</td>\n",
       "      <td>8381_8.txt</td>\n",
       "      <td>True</td>\n",
       "    </tr>\n",
       "    <tr>\n",
       "      <td>30739</td>\n",
       "      <td>30739</td>\n",
       "      <td>train</td>\n",
       "      <td>We all know a movie never does complete justic...</td>\n",
       "      <td>neg</td>\n",
       "      <td>3916_3.txt</td>\n",
       "      <td>True</td>\n",
       "    </tr>\n",
       "    <tr>\n",
       "      <td>25407</td>\n",
       "      <td>25407</td>\n",
       "      <td>train</td>\n",
       "      <td>This movie was poorly written, poorly acted an...</td>\n",
       "      <td>neg</td>\n",
       "      <td>10367_4.txt</td>\n",
       "      <td>True</td>\n",
       "    </tr>\n",
       "    <tr>\n",
       "      <td>19981</td>\n",
       "      <td>19981</td>\n",
       "      <td>test</td>\n",
       "      <td>I just saw this movie for the first time last ...</td>\n",
       "      <td>pos</td>\n",
       "      <td>5484_10.txt</td>\n",
       "      <td>False</td>\n",
       "    </tr>\n",
       "  </tbody>\n",
       "</table>\n",
       "</div>"
      ],
      "text/plain": [
       "       Unnamed: 0   type                                             review  \\\n",
       "24639       24639   test  When I first saw this show, I was 9, and it ca...   \n",
       "30822       30822  train  I'm not sure why Spike Lee made this train wre...   \n",
       "4404         4404   test  Do you get it? Like the car. These are the jok...   \n",
       "4004         4004   test  As I post this comment, IMDb currently rates A...   \n",
       "43136       43136  train  I saw this film in the worst possible circumst...   \n",
       "15294       15294   test  I'm amazed that Memento (which is an excellent...   \n",
       "48200       48200  train  This movie i've loved since i was young! Its e...   \n",
       "30739       30739  train  We all know a movie never does complete justic...   \n",
       "25407       25407  train  This movie was poorly written, poorly acted an...   \n",
       "19981       19981   test  I just saw this movie for the first time last ...   \n",
       "\n",
       "      label         file  odd_char  \n",
       "24639   pos  9677_10.txt     False  \n",
       "30822   neg   3991_4.txt     False  \n",
       "4404    neg   2714_2.txt     False  \n",
       "4004    neg   2354_3.txt      True  \n",
       "43136   pos   3823_9.txt      True  \n",
       "15294   pos  1265_10.txt      True  \n",
       "48200   pos   8381_8.txt      True  \n",
       "30739   neg   3916_3.txt      True  \n",
       "25407   neg  10367_4.txt      True  \n",
       "19981   pos  5484_10.txt     False  "
      ]
     },
     "execution_count": 203,
     "metadata": {},
     "output_type": "execute_result"
    }
   ],
   "source": [
    "sub = 'n\\'t'\n",
    "odd_char_df = imdb_df_subset\n",
    "odd_char_df[\"odd_char\"]= odd_char_df[\"review\"].str.find(sub) > 0 \n",
    "odd_char_df.head(10)"
   ]
  },
  {
   "cell_type": "code",
   "execution_count": 211,
   "metadata": {},
   "outputs": [
    {
     "data": {
      "text/html": [
       "<div>\n",
       "<style scoped>\n",
       "    .dataframe tbody tr th:only-of-type {\n",
       "        vertical-align: middle;\n",
       "    }\n",
       "\n",
       "    .dataframe tbody tr th {\n",
       "        vertical-align: top;\n",
       "    }\n",
       "\n",
       "    .dataframe thead th {\n",
       "        text-align: right;\n",
       "    }\n",
       "</style>\n",
       "<table border=\"1\" class=\"dataframe\">\n",
       "  <thead>\n",
       "    <tr style=\"text-align: right;\">\n",
       "      <th></th>\n",
       "      <th>review</th>\n",
       "      <th>odd_char</th>\n",
       "      <th>label</th>\n",
       "    </tr>\n",
       "  </thead>\n",
       "  <tbody>\n",
       "    <tr>\n",
       "      <td>4004</td>\n",
       "      <td>As I post this comment, IMDb currently rates Alfred Hitchcock's subpar Saboteur a 7.3/10. Personally, I rated it less than half that. Honestly, I can't tell how a movie this bad could've come from what is probably the most consistently good director I know of. I've seen about 10 other Hitch movies from the 30's-60's. Vertigo is thus far my hands down favorite while Saboteur is easily the worst. It's hard to believe that 7 years earlier Hitch used the very same formula in The 39 Steps far more competently. My recommendation would be to see that instead and avoid this like the plague. It's the only Hitchcock movie that I turned off before before the end and have no desire to go back and see the rest. If you must watch it, then rent or borrow. Don't make the mistake I did and buy the DVD on good faith earned through Notorious, Rebecca, Vertigo, Rear Window, etc. Even a master screws up sometimes, I guess.&lt;br /&gt;&lt;br /&gt;EDIT: Maybe I was a bit harder on this film than I should've been. It's certainly nowhere near Ed Wood or Manos or anything like that, but there's three reasons I feel I must rate it so low:&lt;br /&gt;&lt;br /&gt;1) The name \"Hitchcock\" brings with it certain expectations of quality. This film delivers on a few of them, but they're way overshadowed by the darn near non-sensical plotting.&lt;br /&gt;&lt;br /&gt;2) I want to compensate a bit for all the 8+ ratings this film is getting. Hitchcock is like the John Coltrane of directors. True fans will find reasons to consider anything by him a work of art, but the high rating on IMDb gives more casual movie enthusiasts like myself the impression that this movie is far better than it actually is. &lt;br /&gt;&lt;br /&gt;3) I spent $18 on this. Maybe if it'd cost me $5 or even $10 I'd probably be a bit less bitter. ;)</td>\n",
       "      <td>True</td>\n",
       "      <td>neg</td>\n",
       "    </tr>\n",
       "    <tr>\n",
       "      <td>43136</td>\n",
       "      <td>I saw this film in the worst possible circumstance. I'd already missed 15 minutes when I woke up to it on an international flight between Sydney and Seoul. I didn't know what I was watching, I thought maybe it was a movie of the week, but quickly became riveted by the performance of the lead actress playing a young woman who's child had been kidnapped. The premise started taking twist and turns I didn't see coming and by the end credits I was scrambling through the the in-flight guide to figure out what I had just watched. Turns out I was belatedly discovering Do-yeon Jeon who'd won Best Actress at Cannes for the role. I don't know if Secret Sunshine is typical of Korean cinema but I'm off to the DVD store to discover more.</td>\n",
       "      <td>True</td>\n",
       "      <td>pos</td>\n",
       "    </tr>\n",
       "    <tr>\n",
       "      <td>15294</td>\n",
       "      <td>I'm amazed that Memento (which is an excellent flick) is so well-regarded in the Top 250 and this one doesn't even appear!! What the hell is that?? To be honest - when this movie ended my knee-jerk reaction was that this movie is better than Memento. After the euphoria of the fabulous ending wore off, I concluded that they are equal in their excellence. I am just confused about why its not in the Top 50 along with Memento. I'm going to venture a guess that (sadly) it's because it's in black and white or because (again sadly)that the characters all have British accents ...sadly because that is no reason to not appreciate a great movie like this.&lt;br /&gt;&lt;br /&gt;I'm telling you that if you loved Memento, you will love Following as well. Brilliant!</td>\n",
       "      <td>True</td>\n",
       "      <td>pos</td>\n",
       "    </tr>\n",
       "    <tr>\n",
       "      <td>48200</td>\n",
       "      <td>This movie i've loved since i was young! Its excellent. Although, it may be a bit much for the average movie watcher if one can't interpret certain subtleties in the film (for example, our hero's name is Achilles, and in the final battle between him and Alexander he's shot in the heel with a rocket, just as Achilles in mythology was shot in his heel). That's a just a little fact that is kind of amusing! Anyway, great movie, good story, it'd be neat to see it redone with today's special effects! Oddly enough, Gary Graham had average success, starring in the T.V. show Alien Nation. This movie is a fun watch and should be more appreciated!</td>\n",
       "      <td>True</td>\n",
       "      <td>pos</td>\n",
       "    </tr>\n",
       "    <tr>\n",
       "      <td>30739</td>\n",
       "      <td>We all know a movie never does complete justice to the book, but this is exceptional. Important characters were cut out, Blanca and Alba were essentially mushed into the same character, most of the subplots and major elements of the main plot were eliminated. Clara's clairvoyance was extremely downplayed, making her seem like a much more shallow character than the one I got to know in the book. In the book we learn more about her powers and the important effects she had on so many people, which in turn was a key element in the life of the family. In the movie she was no more than some special lady. The relationship between Esteban and Pedro Tercero (Tercero-third-, by the way, is the son and thus comes after Segundo-second-) and its connections to that between Esteban and his grandson from Pancha GarcÃ­a (not son, who he also did recognize) is chopped in half and its importance downplayed.&lt;br /&gt;&lt;br /&gt;One of the most fundamental things about the book that the film is all but stripped of: this is called \"The House of the Spirits.\" Where is the house? The story of 3-4 generations of a family is supposed to revolve around the \"big house on the corner,\" a line stated so many times in the novel. The house in fundamental to the story, but the movie unjustly relegates it to a mere backdrop.&lt;br /&gt;&lt;br /&gt;If I hadn't read the book before, I would have never guessed that such a sappy, shallow movie could be based on such a rich and entertaining novel.</td>\n",
       "      <td>True</td>\n",
       "      <td>neg</td>\n",
       "    </tr>\n",
       "  </tbody>\n",
       "</table>\n",
       "</div>"
      ],
      "text/plain": [
       "                                                                                                                                                                                                                                                                                                                                                                                                                                                                                                                                                                                                                                                                                                                                                                                                                                                                                                                                                                                                                                                                                                                                                                                                                                                                                                                                                                                                                                                                                                                                                                                                                                                                                                                                                                                                                                       review  \\\n",
       "4004   As I post this comment, IMDb currently rates Alfred Hitchcock's subpar Saboteur a 7.3/10. Personally, I rated it less than half that. Honestly, I can't tell how a movie this bad could've come from what is probably the most consistently good director I know of. I've seen about 10 other Hitch movies from the 30's-60's. Vertigo is thus far my hands down favorite while Saboteur is easily the worst. It's hard to believe that 7 years earlier Hitch used the very same formula in The 39 Steps far more competently. My recommendation would be to see that instead and avoid this like the plague. It's the only Hitchcock movie that I turned off before before the end and have no desire to go back and see the rest. If you must watch it, then rent or borrow. Don't make the mistake I did and buy the DVD on good faith earned through Notorious, Rebecca, Vertigo, Rear Window, etc. Even a master screws up sometimes, I guess.<br /><br />EDIT: Maybe I was a bit harder on this film than I should've been. It's certainly nowhere near Ed Wood or Manos or anything like that, but there's three reasons I feel I must rate it so low:<br /><br />1) The name \"Hitchcock\" brings with it certain expectations of quality. This film delivers on a few of them, but they're way overshadowed by the darn near non-sensical plotting.<br /><br />2) I want to compensate a bit for all the 8+ ratings this film is getting. Hitchcock is like the John Coltrane of directors. True fans will find reasons to consider anything by him a work of art, but the high rating on IMDb gives more casual movie enthusiasts like myself the impression that this movie is far better than it actually is. <br /><br />3) I spent $18 on this. Maybe if it'd cost me $5 or even $10 I'd probably be a bit less bitter. ;)   \n",
       "43136  I saw this film in the worst possible circumstance. I'd already missed 15 minutes when I woke up to it on an international flight between Sydney and Seoul. I didn't know what I was watching, I thought maybe it was a movie of the week, but quickly became riveted by the performance of the lead actress playing a young woman who's child had been kidnapped. The premise started taking twist and turns I didn't see coming and by the end credits I was scrambling through the the in-flight guide to figure out what I had just watched. Turns out I was belatedly discovering Do-yeon Jeon who'd won Best Actress at Cannes for the role. I don't know if Secret Sunshine is typical of Korean cinema but I'm off to the DVD store to discover more.                                                                                                                                                                                                                                                                                                                                                                                                                                                                                                                                                                                                                                                                                                                                                                                                                                                                                                                                                                                                                                                                            \n",
       "15294  I'm amazed that Memento (which is an excellent flick) is so well-regarded in the Top 250 and this one doesn't even appear!! What the hell is that?? To be honest - when this movie ended my knee-jerk reaction was that this movie is better than Memento. After the euphoria of the fabulous ending wore off, I concluded that they are equal in their excellence. I am just confused about why its not in the Top 50 along with Memento. I'm going to venture a guess that (sadly) it's because it's in black and white or because (again sadly)that the characters all have British accents ...sadly because that is no reason to not appreciate a great movie like this.<br /><br />I'm telling you that if you loved Memento, you will love Following as well. Brilliant!                                                                                                                                                                                                                                                                                                                                                                                                                                                                                                                                                                                                                                                                                                                                                                                                                                                                                                                                                                                                                                                           \n",
       "48200  This movie i've loved since i was young! Its excellent. Although, it may be a bit much for the average movie watcher if one can't interpret certain subtleties in the film (for example, our hero's name is Achilles, and in the final battle between him and Alexander he's shot in the heel with a rocket, just as Achilles in mythology was shot in his heel). That's a just a little fact that is kind of amusing! Anyway, great movie, good story, it'd be neat to see it redone with today's special effects! Oddly enough, Gary Graham had average success, starring in the T.V. show Alien Nation. This movie is a fun watch and should be more appreciated!                                                                                                                                                                                                                                                                                                                                                                                                                                                                                                                                                                                                                                                                                                                                                                                                                                                                                                                                                                                                                                                                                                                                                                     \n",
       "30739  We all know a movie never does complete justice to the book, but this is exceptional. Important characters were cut out, Blanca and Alba were essentially mushed into the same character, most of the subplots and major elements of the main plot were eliminated. Clara's clairvoyance was extremely downplayed, making her seem like a much more shallow character than the one I got to know in the book. In the book we learn more about her powers and the important effects she had on so many people, which in turn was a key element in the life of the family. In the movie she was no more than some special lady. The relationship between Esteban and Pedro Tercero (Tercero-third-, by the way, is the son and thus comes after Segundo-second-) and its connections to that between Esteban and his grandson from Pancha GarcÃ­a (not son, who he also did recognize) is chopped in half and its importance downplayed.<br /><br />One of the most fundamental things about the book that the film is all but stripped of: this is called \"The House of the Spirits.\" Where is the house? The story of 3-4 generations of a family is supposed to revolve around the \"big house on the corner,\" a line stated so many times in the novel. The house in fundamental to the story, but the movie unjustly relegates it to a mere backdrop.<br /><br />If I hadn't read the book before, I would have never guessed that such a sappy, shallow movie could be based on such a rich and entertaining novel.                                                                                                                                                                                                                                                                                                                   \n",
       "\n",
       "       odd_char label  \n",
       "4004   True      neg   \n",
       "43136  True      pos   \n",
       "15294  True      pos   \n",
       "48200  True      pos   \n",
       "30739  True      neg   "
      ]
     },
     "execution_count": 211,
     "metadata": {},
     "output_type": "execute_result"
    }
   ],
   "source": [
    "pd.set_option('display.max_colwidth', -1)\n",
    "odd_char_df[['review', 'odd_char', 'label']][odd_char_df['odd_char'] == True].head()"
   ]
  },
  {
   "cell_type": "code",
   "execution_count": 213,
   "metadata": {},
   "outputs": [
    {
     "data": {
      "text/plain": [
       "neg    1702\n",
       "pos    1286\n",
       "Name: label, dtype: int64"
      ]
     },
     "execution_count": 213,
     "metadata": {},
     "output_type": "execute_result"
    }
   ],
   "source": [
    "label_count_df = odd_char_df[['review', 'odd_char', 'label']][odd_char_df['odd_char'] == True]\n",
    "label_count_df.label.value_counts()"
   ]
  },
  {
   "cell_type": "markdown",
   "metadata": {},
   "source": [
    "This clearly shows a game of how negatives can mean that a movie review is negative. However, 43% of the viewers used a negative to describe that they were surprised the film is not considered a great movie. \n",
    "For example, this review:\n",
    "\n",
    "`I saw this film in the worst possible circumstance  I didn't know what I was watching, \\[...\\] Turns out I was belatedly discovering Do-yeon Jeon who'd won Best Actress at Cannes for the role. `\n",
    "\n",
    "Some other symbols, with a lower GINI can also play important roles. and might be more intuitive after reading the reviews and see why they could actually be important. Let's take a look at `*****`"
   ]
  },
  {
   "cell_type": "code",
   "execution_count": 193,
   "metadata": {},
   "outputs": [
    {
     "data": {
      "text/plain": [
       "Gini-importance    0.403272\n",
       "Name: *****, dtype: float64"
      ]
     },
     "execution_count": 193,
     "metadata": {},
     "output_type": "execute_result"
    }
   ],
   "source": [
    "# Found '*****' to be an important feature\n",
    "importance_equal.loc['*****']"
   ]
  },
  {
   "cell_type": "code",
   "execution_count": 118,
   "metadata": {},
   "outputs": [],
   "source": [
    "#feature_names"
   ]
  },
  {
   "cell_type": "code",
   "execution_count": 225,
   "metadata": {},
   "outputs": [],
   "source": [
    "star = '*****'"
   ]
  },
  {
   "cell_type": "code",
   "execution_count": 226,
   "metadata": {},
   "outputs": [],
   "source": [
    "# Data frame to see *****\n",
    "df_stars = imdb_df_subset\n",
    "df_stars[\"odd_char\"]= imdb_df_subset[\"review\"].str.find(star) > 0 \n",
    "#df_stars.head()"
   ]
  },
  {
   "cell_type": "code",
   "execution_count": 227,
   "metadata": {},
   "outputs": [],
   "source": [
    "count_stars = df_stars[['review', 'odd_char', 'label']].sort_values(by = 'odd_char', ascending = False)"
   ]
  },
  {
   "cell_type": "code",
   "execution_count": 228,
   "metadata": {},
   "outputs": [
    {
     "data": {
      "text/html": [
       "<div>\n",
       "<style scoped>\n",
       "    .dataframe tbody tr th:only-of-type {\n",
       "        vertical-align: middle;\n",
       "    }\n",
       "\n",
       "    .dataframe tbody tr th {\n",
       "        vertical-align: top;\n",
       "    }\n",
       "\n",
       "    .dataframe thead th {\n",
       "        text-align: right;\n",
       "    }\n",
       "</style>\n",
       "<table border=\"1\" class=\"dataframe\">\n",
       "  <thead>\n",
       "    <tr style=\"text-align: right;\">\n",
       "      <th></th>\n",
       "      <th>review</th>\n",
       "      <th>odd_char</th>\n",
       "      <th>label</th>\n",
       "    </tr>\n",
       "  </thead>\n",
       "  <tbody>\n",
       "    <tr>\n",
       "      <td>47303</td>\n",
       "      <td>This is one of the best of the series, ranking up there with Resident Evil 3: Nemesis (Or Biohazard: Last Escape) The game has a very good storyline in which you play as Claire Redfield in the search for her brother,Chris Redfield (Whom you probably know from the original Resident Evil) It is as scary as the other Resident Evil, and contains alot more cutscenes.&lt;br /&gt;&lt;br /&gt;My Rating: **** out of ***** Stars (Rating based on comparison to other videogames)</td>\n",
       "      <td>True</td>\n",
       "      <td>pos</td>\n",
       "    </tr>\n",
       "    <tr>\n",
       "      <td>45266</td>\n",
       "      <td>The emotional powers and characters of Dominick and Eugene are the things that Hollywood doesn't make anymore. This is one of the most emotional, sensitive, and heart-felt movies that I have ever seen! Roy Liotta, Tom Hulce, and supporting actress Jamie Lee Curtis, deliver Oscar Winning caliber performances! There are not enough words to express how great this movie is. Sure, people who are not into sentimental movies may not care as much as the rest of us about Dominick and Eugene, but for the rest of us, this movie goes right to the heart and sole of compassion and humanity. You will never forget this film, EVER!&lt;br /&gt;&lt;br /&gt;*****SPOILERS BELOW*****&lt;br /&gt;&lt;br /&gt;The simple yet eloquent story is masterfully told. Eugene is a med-school intern who faces long hours and a demanding work load at the hospital. His fraternal twin brother Dominick (born 12 minutes earlier) is a little slow and awkward because of brain damage due to a victim of abuse by their father. (A heartbreaking moment when this is found out in the film that will leave you in tears!) Eugene (a.k.a \"Geno\") faces a painful dilemma. He must decide whether to finish medical school, which would mean accepting his residency in another city and leave Dominick (a.k.a \"Nicky\") behind, or forfeit the rest of his education to take care of him. Nicky helps pay his brother's med-school tuition by working as a trash collector.&lt;br /&gt;&lt;br /&gt;The questions of ethics, morals, and responsibilities are masterfully blended in this landmark movie. Just when Gino thinks Nicky might be making progress toward independence, Dominick turns around and winds up doing things like helping out a drug dealer, or tying to use a faulty cord that he finds at the dump on an electrical appliance.&lt;br /&gt;&lt;br /&gt;Larry, is \"The Character\" and Nicky's partner on his garbage route who fills gullible Dominick's head with all kinds of stories like Geno and Jennifer (his girlfriend, whom he is tutoring in Clinical Pharmacology) going to Atlantic City and gambling away all their money. But deep down, you can see that Larry cares for him. On their rounds, Nicky also befriends a little boy, whom we find out has also been beaten by his father. An end result is also tragic and the pain that you see on Nicky's face when it happens, speaks volumes.&lt;br /&gt;&lt;br /&gt;The sensitivity that the two brothers share for each other can not be overstated enough. All Nicky wants to do is be loved and look for acceptance in anyway he can. (i.e he goes to church, loves Hulk Hogan) Geno loves Nicky more than anything in the world. But can his brother become independent enough so that Geno can pursue his dream of becoming a doctor? A brilliant film that should have gotten tons more recognition than it deserved, but unfortunately came out around the same time as Rain Man, which dealt with a similar issue. However, I like Dominick and Eugene better because it has a far stronger emotional component. Be forewarned that this movie is aimed right at the tear-ducts, so have Kleenex handy! What a film!!!!</td>\n",
       "      <td>True</td>\n",
       "      <td>pos</td>\n",
       "    </tr>\n",
       "    <tr>\n",
       "      <td>17534</td>\n",
       "      <td>Trey's favourite from the first run of Season 10 and also one of my personal favourites, Manbearpig features the adventure of Al Gore before going on global warming and before the movie, it was similar a adventure certainly, Al Gore was also trying to aware the world about something that can change the Earth, something really dangerous, this time about something that is half man half bear and half pig, Al Gore had only one thing in mind: to aware everyone of Manbearpig and to kill it! Al Gore here is more than hilarious, everyone who sees him feel sorry for him and yes he can childish, doing tantrums since nobody believes him but he is just a f****** demented bastard. Basically four kids are trapped in a cave because of Al Gore but certainly he don't have that in his mind, there's not space for any other subject, is just Manbearpig what concerns Al Gore. Those four kids are Cartman, Kenny, Kyle and Stan, basically Stan felt sorry for AL Gore and the four boys were just playing in Al Gore's game never imaging that Gore could almost kill them while he was trying to kill Manbearpig (hilarious scene- \"they are just children, damned Manbearpig\"). So at this part we have on one hand all the stuff with the rescue team who also feel sorry for Al Gore and on the other hand we have a little yet extremely hilarious Cartman episode and there are not surprises of the attitude of Cartman after he finds a treasure inside the cave, certainly the whole stuff with this treasure is fantastic and is great because you will see a sick Cartman in both senses, he is really sick for the boys and really sick for us. And in the end Al Gore does killed Manbearpig! This character is a fantastic one and I'm cereal! Terrific fun in this episode, a highly re-watchable one. 10 out of 10</td>\n",
       "      <td>True</td>\n",
       "      <td>pos</td>\n",
       "    </tr>\n",
       "    <tr>\n",
       "      <td>44680</td>\n",
       "      <td>STAR RATING: ***** Saturday Night **** Friday Night *** Friday Morning ** Sunday Night * Monday Morning &lt;br /&gt;&lt;br /&gt;A notably bad actor, getting by on his (now fading) looks rather than any strong dramatic talent, Richard Gere has always occupied a rather curious position in the American Hollywood scene, always a sure bet in leading man roles who still holds a notable presence today. But nowadays he seems to have settled more into these sort of direct to DVD/limited release roles and as such maybe seems to be more settled in his forte now.&lt;br /&gt;&lt;br /&gt;He has to draw on some stern matter here as hardened, cynical case worker Earl Babbage, one such worker assigned to a few hundred sex offenders in one area of the US, who along with his new protÃ©gÃ© Allison Allthrop (Claire Danes) must take to his latest case, delving into the abduction of a young woman while trying to forgive himself for a case he failed on ages ago.&lt;br /&gt;&lt;br /&gt;This is a certain dive into the darker side of humanity, treading on material definitely not for the squeamish or those looking for light viewing. And as such it's a pretty strong, compelling film, unflinching and not constrained by it's direct to DVD budget. The only thing really pulling it back is the overly used jittery, fast cutting camera sequences used in the more dramatic moments that look a bit corny after a while. But it's still some of the solidest material I've seen Gere in, relentlessly getting darker and more over the edge as it goes on. ***</td>\n",
       "      <td>True</td>\n",
       "      <td>pos</td>\n",
       "    </tr>\n",
       "    <tr>\n",
       "      <td>942</td>\n",
       "      <td>As I mentioned in other comments, I became a real big fan of David Bradley ever since I saw him in \"American Ninja 3\". The guy is great doing martial arts, has some kind of charisma and is a cool looking dude on screen. Sadfully, he went to the DTV department ever since his debut and has remained as one of the king of TV movies until 2001 where he apparently stopped making movies. Now, one thing is watching Cyborg Cop or Hard Justice which are crappy clichÃ©d movies but real fun to watch (coz they're entertainingly bad if that has any sort of meaning) but another thing is watching a tasteless piece of boredom like Total Reality. I mean, this and Crisis are the two biggest pieces of horse-dung this guy ever did. I wouldn't recommend this not even to the biggest Bradly hardcore fans. If I had known this and Crisis were going to be so f*****g crap, I wouldn't have spent the 3 or 4 euros they cost me. Total Reality is just as boring as Crisis although funnily, it starts promising. A group of military prisoners in the future are given a chance to stop some kind of disaster in the past (I'm sorry, I didn't really pay much attention to this atrociousness) and they only have 24 hours to get back or something like that. If they don't, they're stranded there forever. The poor director who oversaw this, \"tries\" some humorous (?) clichÃ©s like the convicts arriving on Earth and not knowing what a truck is for example (wow, hilarious...). The movie follows up with David Bradley teaming up with some Earth girl for the rest of the flick. This bored me so much that I had to force myself to watch it in like 3 or 4 installments to at least make use of the 4 or 5 euros it cost me. That's coz every time I tried, I fell asleep. And if you get a movie with David Bradley with just one crappy 10-second fight scene in it, then that's the final touch which would contribute to you throwing it off a hundred foot cliff so as never to see it again. I wish I could meet the \"director\" of this pile of poo on the street and I swear to God I'd ask him back for mi 5 euros. I'd also love to meet David Bradley to ask him why in God's name did he choose to star in this poor excuse for a movie. Don't even bother with this film, I mean it from the bottom of my heart, not renting borrowing it and specially not buying it.</td>\n",
       "      <td>True</td>\n",
       "      <td>neg</td>\n",
       "    </tr>\n",
       "  </tbody>\n",
       "</table>\n",
       "</div>"
      ],
      "text/plain": [
       "                                                                                                                                                                                                                                                                                                                                                                                                                                                                                                                                                                                                                                                                                                                                                                                                                                                                                                                                                                                                                                                                                                                                                                                                                                                                                                                                                                                                                                                                                                                                                                                                                                                                                                                                                                                                                                                                                                                                                                                                                                                                                                                                                                                                                                                                                                                                                                                                                                                                                                                                                                                                                                                                                                                                                                                                                                                                                                                                                                                                                                                                                                                                                             review  \\\n",
       "47303  This is one of the best of the series, ranking up there with Resident Evil 3: Nemesis (Or Biohazard: Last Escape) The game has a very good storyline in which you play as Claire Redfield in the search for her brother,Chris Redfield (Whom you probably know from the original Resident Evil) It is as scary as the other Resident Evil, and contains alot more cutscenes.<br /><br />My Rating: **** out of ***** Stars (Rating based on comparison to other videogames)                                                                                                                                                                                                                                                                                                                                                                                                                                                                                                                                                                                                                                                                                                                                                                                                                                                                                                                                                                                                                                                                                                                                                                                                                                                                                                                                                                                                                                                                                                                                                                                                                                                                                                                                                                                                                                                                                                                                                                                                                                                                                                                                                                                                                                                                                                                                                                                                                                                                                                                                                                                                                                                                                    \n",
       "45266  The emotional powers and characters of Dominick and Eugene are the things that Hollywood doesn't make anymore. This is one of the most emotional, sensitive, and heart-felt movies that I have ever seen! Roy Liotta, Tom Hulce, and supporting actress Jamie Lee Curtis, deliver Oscar Winning caliber performances! There are not enough words to express how great this movie is. Sure, people who are not into sentimental movies may not care as much as the rest of us about Dominick and Eugene, but for the rest of us, this movie goes right to the heart and sole of compassion and humanity. You will never forget this film, EVER!<br /><br />*****SPOILERS BELOW*****<br /><br />The simple yet eloquent story is masterfully told. Eugene is a med-school intern who faces long hours and a demanding work load at the hospital. His fraternal twin brother Dominick (born 12 minutes earlier) is a little slow and awkward because of brain damage due to a victim of abuse by their father. (A heartbreaking moment when this is found out in the film that will leave you in tears!) Eugene (a.k.a \"Geno\") faces a painful dilemma. He must decide whether to finish medical school, which would mean accepting his residency in another city and leave Dominick (a.k.a \"Nicky\") behind, or forfeit the rest of his education to take care of him. Nicky helps pay his brother's med-school tuition by working as a trash collector.<br /><br />The questions of ethics, morals, and responsibilities are masterfully blended in this landmark movie. Just when Gino thinks Nicky might be making progress toward independence, Dominick turns around and winds up doing things like helping out a drug dealer, or tying to use a faulty cord that he finds at the dump on an electrical appliance.<br /><br />Larry, is \"The Character\" and Nicky's partner on his garbage route who fills gullible Dominick's head with all kinds of stories like Geno and Jennifer (his girlfriend, whom he is tutoring in Clinical Pharmacology) going to Atlantic City and gambling away all their money. But deep down, you can see that Larry cares for him. On their rounds, Nicky also befriends a little boy, whom we find out has also been beaten by his father. An end result is also tragic and the pain that you see on Nicky's face when it happens, speaks volumes.<br /><br />The sensitivity that the two brothers share for each other can not be overstated enough. All Nicky wants to do is be loved and look for acceptance in anyway he can. (i.e he goes to church, loves Hulk Hogan) Geno loves Nicky more than anything in the world. But can his brother become independent enough so that Geno can pursue his dream of becoming a doctor? A brilliant film that should have gotten tons more recognition than it deserved, but unfortunately came out around the same time as Rain Man, which dealt with a similar issue. However, I like Dominick and Eugene better because it has a far stronger emotional component. Be forewarned that this movie is aimed right at the tear-ducts, so have Kleenex handy! What a film!!!!   \n",
       "17534  Trey's favourite from the first run of Season 10 and also one of my personal favourites, Manbearpig features the adventure of Al Gore before going on global warming and before the movie, it was similar a adventure certainly, Al Gore was also trying to aware the world about something that can change the Earth, something really dangerous, this time about something that is half man half bear and half pig, Al Gore had only one thing in mind: to aware everyone of Manbearpig and to kill it! Al Gore here is more than hilarious, everyone who sees him feel sorry for him and yes he can childish, doing tantrums since nobody believes him but he is just a f****** demented bastard. Basically four kids are trapped in a cave because of Al Gore but certainly he don't have that in his mind, there's not space for any other subject, is just Manbearpig what concerns Al Gore. Those four kids are Cartman, Kenny, Kyle and Stan, basically Stan felt sorry for AL Gore and the four boys were just playing in Al Gore's game never imaging that Gore could almost kill them while he was trying to kill Manbearpig (hilarious scene- \"they are just children, damned Manbearpig\"). So at this part we have on one hand all the stuff with the rescue team who also feel sorry for Al Gore and on the other hand we have a little yet extremely hilarious Cartman episode and there are not surprises of the attitude of Cartman after he finds a treasure inside the cave, certainly the whole stuff with this treasure is fantastic and is great because you will see a sick Cartman in both senses, he is really sick for the boys and really sick for us. And in the end Al Gore does killed Manbearpig! This character is a fantastic one and I'm cereal! Terrific fun in this episode, a highly re-watchable one. 10 out of 10                                                                                                                                                                                                                                                                                                                                                                                                                                                                                                                                                                                                                                                                                                                                                                                                                                                                                                                                                                                                                                                                                                                                                                                                                                                                                                       \n",
       "44680  STAR RATING: ***** Saturday Night **** Friday Night *** Friday Morning ** Sunday Night * Monday Morning <br /><br />A notably bad actor, getting by on his (now fading) looks rather than any strong dramatic talent, Richard Gere has always occupied a rather curious position in the American Hollywood scene, always a sure bet in leading man roles who still holds a notable presence today. But nowadays he seems to have settled more into these sort of direct to DVD/limited release roles and as such maybe seems to be more settled in his forte now.<br /><br />He has to draw on some stern matter here as hardened, cynical case worker Earl Babbage, one such worker assigned to a few hundred sex offenders in one area of the US, who along with his new protÃ©gÃ© Allison Allthrop (Claire Danes) must take to his latest case, delving into the abduction of a young woman while trying to forgive himself for a case he failed on ages ago.<br /><br />This is a certain dive into the darker side of humanity, treading on material definitely not for the squeamish or those looking for light viewing. And as such it's a pretty strong, compelling film, unflinching and not constrained by it's direct to DVD budget. The only thing really pulling it back is the overly used jittery, fast cutting camera sequences used in the more dramatic moments that look a bit corny after a while. But it's still some of the solidest material I've seen Gere in, relentlessly getting darker and more over the edge as it goes on. ***                                                                                                                                                                                                                                                                                                                                                                                                                                                                                                                                                                                                                                                                                                                                                                                                                                                                                                                                                                                                                                                                                                                                                                                                                                                                                                                                                                                                                                                                                                                                                                                                   \n",
       "942    As I mentioned in other comments, I became a real big fan of David Bradley ever since I saw him in \"American Ninja 3\". The guy is great doing martial arts, has some kind of charisma and is a cool looking dude on screen. Sadfully, he went to the DTV department ever since his debut and has remained as one of the king of TV movies until 2001 where he apparently stopped making movies. Now, one thing is watching Cyborg Cop or Hard Justice which are crappy clichÃ©d movies but real fun to watch (coz they're entertainingly bad if that has any sort of meaning) but another thing is watching a tasteless piece of boredom like Total Reality. I mean, this and Crisis are the two biggest pieces of horse-dung this guy ever did. I wouldn't recommend this not even to the biggest Bradly hardcore fans. If I had known this and Crisis were going to be so f*****g crap, I wouldn't have spent the 3 or 4 euros they cost me. Total Reality is just as boring as Crisis although funnily, it starts promising. A group of military prisoners in the future are given a chance to stop some kind of disaster in the past (I'm sorry, I didn't really pay much attention to this atrociousness) and they only have 24 hours to get back or something like that. If they don't, they're stranded there forever. The poor director who oversaw this, \"tries\" some humorous (?) clichÃ©s like the convicts arriving on Earth and not knowing what a truck is for example (wow, hilarious...). The movie follows up with David Bradley teaming up with some Earth girl for the rest of the flick. This bored me so much that I had to force myself to watch it in like 3 or 4 installments to at least make use of the 4 or 5 euros it cost me. That's coz every time I tried, I fell asleep. And if you get a movie with David Bradley with just one crappy 10-second fight scene in it, then that's the final touch which would contribute to you throwing it off a hundred foot cliff so as never to see it again. I wish I could meet the \"director\" of this pile of poo on the street and I swear to God I'd ask him back for mi 5 euros. I'd also love to meet David Bradley to ask him why in God's name did he choose to star in this poor excuse for a movie. Don't even bother with this film, I mean it from the bottom of my heart, not renting borrowing it and specially not buying it.                                                                                                                                                                                                                                                                                                                                                                                                                                                                                                                                                                                                                                                                                                                                               \n",
       "\n",
       "       odd_char label  \n",
       "47303  True      pos   \n",
       "45266  True      pos   \n",
       "17534  True      pos   \n",
       "44680  True      pos   \n",
       "942    True      neg   "
      ]
     },
     "execution_count": 228,
     "metadata": {},
     "output_type": "execute_result"
    }
   ],
   "source": [
    "count_stars[count_stars['odd_char'] == True].head(5)"
   ]
  },
  {
   "cell_type": "code",
   "execution_count": 229,
   "metadata": {},
   "outputs": [
    {
     "data": {
      "text/plain": [
       "neg    2529\n",
       "pos    2471\n",
       "Name: label, dtype: int64"
      ]
     },
     "execution_count": 229,
     "metadata": {},
     "output_type": "execute_result"
    }
   ],
   "source": [
    "count_stars.label.value_counts()"
   ]
  },
  {
   "cell_type": "markdown",
   "metadata": {},
   "source": [
    "Here we can see that `*****` has two main meanings: say that something is worth 5 stars or censor a viewer's bad comments. "
   ]
  }
 ],
 "metadata": {
  "kernelspec": {
   "display_name": "Python 3",
   "language": "python",
   "name": "python3"
  },
  "language_info": {
   "codemirror_mode": {
    "name": "ipython",
    "version": 3
   },
   "file_extension": ".py",
   "mimetype": "text/x-python",
   "name": "python",
   "nbconvert_exporter": "python",
   "pygments_lexer": "ipython3",
   "version": "3.7.4"
  }
 },
 "nbformat": 4,
 "nbformat_minor": 4
}
